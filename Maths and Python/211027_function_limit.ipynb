{
 "cells": [
  {
   "cell_type": "markdown",
   "metadata": {},
   "source": [
    "## <center> Предел функции <center>\n"
   ]
  },
  {
   "cell_type": "markdown",
   "metadata": {},
   "source": [
    "#### Дана функция:\n",
    "\n",
    "$$ f(x) = \\frac{e^{x}-1}{x},\\:\\:\\:\\:\\:\\: \\lim_{x\\rightarrow 0}f(x) = ? $$"
   ]
  },
  {
   "cell_type": "code",
   "execution_count": 2,
   "metadata": {},
   "outputs": [],
   "source": [
    "from math import exp\n",
    "\n",
    "def f(x):\n",
    "    return (exp(x) - 1) / x"
   ]
  },
  {
   "cell_type": "code",
   "execution_count": 13,
   "metadata": {},
   "outputs": [
    {
     "name": "stdout",
     "output_type": "stream",
     "text": [
      "[1.718281828459045, 1.0517091807564771, 1.005016708416795, 1.0005001667083846, 1.000050001667141]\n"
     ]
    }
   ],
   "source": [
    "x0 = 0\n",
    "dx_list = [1, 0.1, 0.01, 0.001, 0.0001]\n",
    "\n",
    "print([f(x0+x) for x in dx_list])"
   ]
  },
  {
   "cell_type": "code",
   "execution_count": 12,
   "metadata": {},
   "outputs": [
    {
     "name": "stdout",
     "output_type": "stream",
     "text": [
      "[0.6321205588285577, 0.9516258196404048, 0.9950166250831893, 0.9995001666249781, 0.9999500016666385]\n"
     ]
    }
   ],
   "source": [
    "print([f(x0-x) for x in dx_list])"
   ]
  },
  {
   "cell_type": "markdown",
   "metadata": {},
   "source": [
    "### Реализуйте функцию f(x):\n",
    "\n",
    "$$ f(x) = 2arctg(x) $$\n",
    "\n",
    "Найдите предел функции (ответ округлите до 3 знака после запятой) при $$ x\\rightarrow +\\infty $$\n",
    "\n",
    "$$ \\lim_{x\\rightarrow +\\infty }2arctg(x) $$"
   ]
  },
  {
   "cell_type": "code",
   "execution_count": 15,
   "metadata": {},
   "outputs": [],
   "source": [
    "from math import atan, inf\n",
    "\n",
    "def f_atan(x):\n",
    "    return round(2 * atan(x), 3)\n",
    "\n",
    "lim = inf"
   ]
  },
  {
   "cell_type": "code",
   "execution_count": 16,
   "metadata": {},
   "outputs": [
    {
     "name": "stdout",
     "output_type": "stream",
     "text": [
      "3.142\n"
     ]
    }
   ],
   "source": [
    "print(f_atan(lim))"
   ]
  }
 ],
 "metadata": {
  "kernelspec": {
   "display_name": "Python 3",
   "language": "python",
   "name": "python3"
  },
  "language_info": {
   "codemirror_mode": {
    "name": "ipython",
    "version": 3
   },
   "file_extension": ".py",
   "mimetype": "text/x-python",
   "name": "python",
   "nbconvert_exporter": "python",
   "pygments_lexer": "ipython3",
   "version": "3.8.5"
  }
 },
 "nbformat": 4,
 "nbformat_minor": 4
}
