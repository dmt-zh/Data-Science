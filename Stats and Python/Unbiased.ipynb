{
 "cells": [
  {
   "cell_type": "markdown",
   "metadata": {},
   "source": [
    "#  Несмещённость и охота на мамонтов\n",
    "\n",
    "Когда статистик оценивает какой-нибудь параметр, он хочет: \n",
    "\n",
    "* __несмещённость__ (при фиксированном размере выборки мы в среднем не ошибаемся) \n",
    "* __состоятельность__ (при бесконечном расширении выборки мы приходим к истинному значению)\n",
    "* __эффективность__ (у нашей оценки самая маленькая дисперсия для её класса (например, для всех несмещенных оценок))\n",
    "* иногда ещё статистик ссылается на какую-то мифическую __асимптотическую нормальность__ оценки.\n",
    "\n",
    "В этой тетрадке поговорим про несмещённость. "
   ]
  },
  {
   "cell_type": "code",
   "execution_count": 1,
   "metadata": {},
   "outputs": [],
   "source": [
    "import numpy as np\n",
    "import pandas as pd\n",
    "\n",
    "from scipy import stats\n",
    "import matplotlib.pyplot as plt\n",
    "import seaborn as sns\n",
    "\n",
    "plt.style.use('ggplot')  # стиль для графиков\n",
    "%matplotlib inline"
   ]
  },
  {
   "cell_type": "markdown",
   "metadata": {},
   "source": [
    "__Определение:__  Оценка $\\hat{\\theta}$ параметра $\\theta$ называется __несмещённой,__ если $\\mathbb{E} (\\hat{\\theta}) = \\theta$."
   ]
  },
  {
   "cell_type": "markdown",
   "metadata": {},
   "source": [
    "## Несмещённые мамонтоборцы \n",
    "\n",
    "В долине летучей мыши Шикака живёт племя Вачати. Оно охотится на мамонтов. Древний Бог Оньянкопонга не так давно сгенерировал в долине реки из нормального распределения $10$ тысяч мамонтов со средним весом $300$ кг и стандартным отклонением $100$ кг. "
   ]
  },
  {
   "cell_type": "code",
   "execution_count": 2,
   "metadata": {},
   "outputs": [
    {
     "data": {
      "text/plain": [
       "298.93523183390585"
      ]
     },
     "execution_count": 2,
     "metadata": {},
     "output_type": "execute_result"
    }
   ],
   "source": [
    "# нормальное распределение с мат. ожиданием 300 и дисперсией 100\n",
    "norm_rv = stats.norm(loc=300, scale=100)\n",
    "\n",
    "# сгенерируем совокупность размером 10^4 с помощью функции rvs (это будет вся популяция мамонтов)\n",
    "x_mamont = norm_rv.rvs(size = 10**4)\n",
    "\n",
    "# настоящее среднее\n",
    "np.mean(x_mamont)"
   ]
  },
  {
   "cell_type": "markdown",
   "metadata": {},
   "source": [
    "* Шаман Одэхингум (лёгкое колебание воды) уверен в своём взоре: \n",
    "\n",
    "$$ \\hat \\theta_{od} = \\frac{1}{n}\\sum_{i=1}^{n} x_i.$$\n",
    "\n",
    "* Шаман Пэпина (виноградная лоза, растущая вокруг дуба) не любит, когда его избивают за слишком оптимистичные прогнозы:\n",
    "\n",
    "$$ \\hat \\theta_{pe} = \\frac{1}{n}\\sum_{i=1}^{n} x_i - \\frac{4200}{n}.$$\n",
    "\n",
    "* Шаман Апониви (где ветер вырывает промежуток с корнем) тоже коректирует прогноз:\n",
    "\n",
    "$$ \\hat \\theta_{ap} = \\frac{1}{n}\\sum_{i=1}^{n} x_i - \\frac{5 \\cdot (n+1)}{n}.$$"
   ]
  },
  {
   "cell_type": "code",
   "execution_count": 3,
   "metadata": {},
   "outputs": [],
   "source": [
    "# Команда нам не подходит, так как она всю матрицу сделает без повторений\n",
    "# np.random.choice(x_mamont, size=(n,m), replace=False)\n",
    "\n",
    "n = 100\n",
    "\n",
    "th_od = np.zeros(200)\n",
    "th_pe = np.zeros(200)\n",
    "th_ap = np.zeros(200)\n",
    "\n",
    "for i in range(200):\n",
    "    x_sample = np.random.choice(x_mamont, size=n, replace=False)\n",
    "    x_mean = np.mean(x_sample)\n",
    "    th_od[i] = x_mean\n",
    "    th_pe[i] = x_mean - 4200/n\n",
    "    th_ap[i] = x_mean - 5*(n+1)/n"
   ]
  },
  {
   "cell_type": "code",
   "execution_count": 4,
   "metadata": {},
   "outputs": [
    {
     "data": {
      "text/plain": [
       "(299.013423466476, 257.01342346647607, 293.96342346647606)"
      ]
     },
     "execution_count": 4,
     "metadata": {},
     "output_type": "execute_result"
    }
   ],
   "source": [
    "# посмотрим на оценки E(\\hat \\theta)\n",
    "np.mean(th_od), np.mean(th_pe), np.mean(th_ap)"
   ]
  },
  {
   "cell_type": "code",
   "execution_count": 5,
   "metadata": {},
   "outputs": [
    {
     "data": {
      "image/png": "[encoded data removed]",
      "text/plain": [
       "<Figure size 864x432 with 1 Axes>"
      ]
     },
     "metadata": {
      "needs_background": "light"
     },
     "output_type": "display_data"
    }
   ],
   "source": [
    "plt.figure(figsize=(12,6))\n",
    "\n",
    "df = pd.DataFrame(zip(th_od, th_pe, th_ap), columns = ['Одэхингум', 'Пэпина', 'Апониви'])\n",
    "sns.boxplot(data = df,);"
   ]
  },
  {
   "cell_type": "markdown",
   "metadata": {},
   "source": [
    "Давайте попробуем посмотреть, как ведут себя распределения оценок шаманов в динамике, при росте числа наблюдений.\n",
    "\n",
    "\n",
    "<center>\n",
    "<img src=\"https://raw.githubusercontent.com/hse-econ-data-science/eds_spring_2020/master/sem08_estimate_convergence/image/animation_boxplot.gif\" width=\"400\"> \n",
    "</center>"
   ]
  },
  {
   "cell_type": "markdown",
   "metadata": {},
   "source": [
    "Хех. Шаманы. Детский сад. Подавай нам что-нибудь из бизнеса. Окей, договорились. Давайте предположим, что шаманы прогнозируют не вес мамонта, а то на какую сумму в среднем будут наступать страховые случаи. Ясное дело, что наш  бюджет на статистические исследования довольно сильно ограничен. И ежедневно мы можем собирать информацию только от ограниченного числа респондентов. Если мы стабильно будем на основе этой информации получать смещённую оценку страхового покрытия, то вместо получения прибыли в среднем, мы легко можем оказаться банкротами. \n",
    "\n",
    "__Ещё раз, ещё раз:__ несмещённость это свойство оценки при фиксированном размере выборки $n$. Оно означает, что ошибка \"в среднем\", то есть при систематическом использовании оценки, отсутствует. Это довольно хорошее свойство, но не обязательное. Достаточно, чтобы смещение оценки уменьшалось с ростом объёма выборки. Такая оценка называется асимптотически несмещённой. "
   ]
  },
  {
   "cell_type": "markdown",
   "metadata": {},
   "source": [
    " "
   ]
  }
 ],
 "metadata": {
  "kernelspec": {
   "display_name": "Python 3 (ipykernel)",
   "language": "python",
   "name": "python3"
  },
  "language_info": {
   "codemirror_mode": {
    "name": "ipython",
    "version": 3
   },
   "file_extension": ".py",
   "mimetype": "text/x-python",
   "name": "python",
   "nbconvert_exporter": "python",
   "pygments_lexer": "ipython3",
   "version": "3.8.5"
  }
 },
 "nbformat": 4,
 "nbformat_minor": 2
}
