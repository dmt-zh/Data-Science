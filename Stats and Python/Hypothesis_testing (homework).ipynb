{
 "cells": [
  {
   "cell_type": "markdown",
   "metadata": {},
   "source": [
    "# Много гипотез"
   ]
  },
  {
   "cell_type": "code",
   "execution_count": 1,
   "metadata": {},
   "outputs": [],
   "source": [
    "import numpy as np\n",
    "import pandas as pd\n",
    "\n",
    "from scipy import stats as sts\n",
    "from statsmodels.stats.weightstats import ttest_ind\n",
    "from statsmodels.stats.proportion import proportions_ztest\n",
    "\n",
    "import seaborn as sns\n",
    "import matplotlib.pyplot as plt\n",
    "\n",
    "plt.style.use('ggplot')\n",
    "%matplotlib inline"
   ]
  },
  {
   "cell_type": "markdown",
   "metadata": {},
   "source": [
    "## Задание 1 (мудрость)\n",
    "\n",
    "> Помните, что для человека звук его имени является самым сладким и самым важным звуком человеческой речи. (Дейл Карнеги)\n",
    "\n",
    "Доверяй, но проверяй. Решим задачку по психологии! Все цитаты в пабликах вконтакте делятся на два вида: мудрые и недостаточно мудрые. Если цитата мудрая, то её можно лайкнуть. Поговаривают, что если в цитате есть личные местоимения, то пользователь автоматически сопоставляет себя автору этой цитаты и вероятность того, что она будет лайкнута, повышается. Например, цитату \n",
    "\n",
    "> Можно простить человеку все, кроме отсутствия. (Экзюпери) \n",
    "\n",
    "мне не очень хотелось бы лайкать. А вот цитата \n",
    "\n",
    "> Мне наплевать, что вы обо мне думаете. Я о вас вообще не думаю. (Булгаков) \n",
    "\n",
    "совершенно другое дело. \n",
    "\n",
    "В табличке `df_vk_wise` лежат данные о мудрых цитатах из [мудрого паблика.](https://vk.com/ooioioioioioo) В колонке `I` находится переменная, которая принимает значение `True`, когда в тексте цитаты было личное местоимение \"Я\".\n",
    "\n",
    "Срежем первые $50$ постов, так как под ними количество репостов и лайков ещё окончательно не выставлено, и будем работать с остатками. "
   ]
  },
  {
   "cell_type": "code",
   "execution_count": 2,
   "metadata": {},
   "outputs": [
    {
     "data": {
      "text/html": [
       "<div>\n",
       "<style scoped>\n",
       "    .dataframe tbody tr th:only-of-type {\n",
       "        vertical-align: middle;\n",
       "    }\n",
       "\n",
       "    .dataframe tbody tr th {\n",
       "        vertical-align: top;\n",
       "    }\n",
       "\n",
       "    .dataframe thead th {\n",
       "        text-align: right;\n",
       "    }\n",
       "</style>\n",
       "<table border=\"1\" class=\"dataframe\">\n",
       "  <thead>\n",
       "    <tr style=\"text-align: right;\">\n",
       "      <th></th>\n",
       "      <th>likes</th>\n",
       "      <th>reposts</th>\n",
       "      <th>text</th>\n",
       "      <th>I</th>\n",
       "    </tr>\n",
       "  </thead>\n",
       "  <tbody>\n",
       "    <tr>\n",
       "      <th>50</th>\n",
       "      <td>549</td>\n",
       "      <td>25</td>\n",
       "      <td>Я, говорит, люблю человечество, но дивлюсь на ...</td>\n",
       "      <td>True</td>\n",
       "    </tr>\n",
       "    <tr>\n",
       "      <th>51</th>\n",
       "      <td>607</td>\n",
       "      <td>22</td>\n",
       "      <td>Нельзя любить то, что я люблю, да ещё так, как...</td>\n",
       "      <td>True</td>\n",
       "    </tr>\n",
       "    <tr>\n",
       "      <th>52</th>\n",
       "      <td>914</td>\n",
       "      <td>37</td>\n",
       "      <td>Если испытываешь по-настоящему глубокое чувств...</td>\n",
       "      <td>False</td>\n",
       "    </tr>\n",
       "    <tr>\n",
       "      <th>53</th>\n",
       "      <td>989</td>\n",
       "      <td>34</td>\n",
       "      <td>— Я тебя люблю, — сказал я. \\n— Это пройдет, —...</td>\n",
       "      <td>True</td>\n",
       "    </tr>\n",
       "    <tr>\n",
       "      <th>54</th>\n",
       "      <td>1229</td>\n",
       "      <td>32</td>\n",
       "      <td>Он очаровательно рассказывает мне о том, как о...</td>\n",
       "      <td>False</td>\n",
       "    </tr>\n",
       "  </tbody>\n",
       "</table>\n",
       "</div>"
      ],
      "text/plain": [
       "    likes  reposts                                               text      I\n",
       "50    549       25  Я, говорит, люблю человечество, но дивлюсь на ...   True\n",
       "51    607       22  Нельзя любить то, что я люблю, да ещё так, как...   True\n",
       "52    914       37  Если испытываешь по-настоящему глубокое чувств...  False\n",
       "53    989       34  — Я тебя люблю, — сказал я. \\n— Это пройдет, —...   True\n",
       "54   1229       32  Он очаровательно рассказывает мне о том, как о...  False"
      ]
     },
     "execution_count": 2,
     "metadata": {},
     "output_type": "execute_result"
    }
   ],
   "source": [
    "df = pd.read_csv('data/df_vk_wise.csv')[50:]\n",
    "df.head()"
   ]
  },
  {
   "cell_type": "markdown",
   "metadata": {},
   "source": [
    "Постройте гистограмму для числа лайков постов, содержащих личные местоимения и не содержащих. Как думаете, есть ли с распределением лайков какие-то проблемы?"
   ]
  },
  {
   "cell_type": "code",
   "execution_count": 3,
   "metadata": {},
   "outputs": [
    {
     "data": {
      "image/png": "[encoded data removed]",
      "text/plain": [
       "<Figure size 1080x360 with 2 Axes>"
      ]
     },
     "metadata": {
      "needs_background": "light"
     },
     "output_type": "display_data"
    }
   ],
   "source": [
    "# your code here\n",
    "x = df[df.I == 1].likes.values\n",
    "y = df[df.I == 0].likes.values\n",
    "\n",
    "fig, axs = plt.subplots(1, 2, figsize=(15, 5))\n",
    "axs[0].hist(x, bins=20)\n",
    "axs[0].set_title('Likes with \"I\"')\n",
    "axs[1].hist(y, bins=20)\n",
    "axs[1].set_title('Likes without \"I\"');"
   ]
  },
  {
   "cell_type": "markdown",
   "metadata": {},
   "source": [
    "Да, проблемы есть. Это выбросы. Хвосты на гистограммах оказываются очень длинными.<br>\n",
    "\n",
    "Найдите медианы и средние для числа лайков. Сравните их между собой."
   ]
  },
  {
   "cell_type": "code",
   "execution_count": 4,
   "metadata": {},
   "outputs": [
    {
     "data": {
      "text/html": [
       "<div>\n",
       "<style scoped>\n",
       "    .dataframe tbody tr th:only-of-type {\n",
       "        vertical-align: middle;\n",
       "    }\n",
       "\n",
       "    .dataframe tbody tr th {\n",
       "        vertical-align: top;\n",
       "    }\n",
       "\n",
       "    .dataframe thead th {\n",
       "        text-align: right;\n",
       "    }\n",
       "</style>\n",
       "<table border=\"1\" class=\"dataframe\">\n",
       "  <thead>\n",
       "    <tr style=\"text-align: right;\">\n",
       "      <th></th>\n",
       "      <th>likes_with_I</th>\n",
       "      <th>mean</th>\n",
       "      <th>median</th>\n",
       "    </tr>\n",
       "  </thead>\n",
       "  <tbody>\n",
       "    <tr>\n",
       "      <th>0</th>\n",
       "      <td>False</td>\n",
       "      <td>2784.0</td>\n",
       "      <td>2497.0</td>\n",
       "    </tr>\n",
       "    <tr>\n",
       "      <th>1</th>\n",
       "      <td>True</td>\n",
       "      <td>2879.0</td>\n",
       "      <td>2588.0</td>\n",
       "    </tr>\n",
       "  </tbody>\n",
       "</table>\n",
       "</div>"
      ],
      "text/plain": [
       "   likes_with_I    mean  median\n",
       "0         False  2784.0  2497.0\n",
       "1          True  2879.0  2588.0"
      ]
     },
     "execution_count": 4,
     "metadata": {},
     "output_type": "execute_result"
    }
   ],
   "source": [
    "# your code here\n",
    "agg = df.groupby('I', as_index=False) \\\n",
    "    .agg({'likes': ['mean', 'median']}) \\\n",
    "    .round()\n",
    "\n",
    "agg.columns = ['likes_with_I', 'mean', 'median']\n",
    "agg"
   ]
  },
  {
   "cell_type": "markdown",
   "metadata": {},
   "source": [
    "Проверьте гипотезу о равенстве среднего числа лайков. Используйте для этого $z$-тест, основанный на ЦПТ. Дисперсию расчитывайте по выборке, используя несмещённую оценку `(ddof=1)`. Запишите наблюдаемое значение статистики в переменную `z_obs`.\n",
    "\n",
    "$$ H_0: \\hspace{2mm} \\mu_1 = \\mu_2  \\hspace{2mm} \\text{Среднее число лайков одинаковое} $$\n",
    "$$ H_a: \\hspace{2mm} \\mu_1 \\ne \\mu_2  \\hspace{2mm} \\text{Среднее число лайков с I отличается} $$"
   ]
  },
  {
   "cell_type": "code",
   "execution_count": 5,
   "metadata": {},
   "outputs": [],
   "source": [
    "# your code here\n",
    "alpha = 0.05\n",
    "\n",
    "nx, ny = x.size, y.size\n",
    "\n",
    "diff = x.mean() - y.mean()\n",
    "diff_std = np.sqrt(x.var(ddof=1) / nx + y.var(ddof=1) / ny)\n",
    "\n",
    "z_obs = diff/diff_std"
   ]
  },
  {
   "cell_type": "markdown",
   "metadata": {},
   "source": [
    "Найдите критическое значение статистики. Сравните его с наблюдаемым. Рассчитайте p-value для ситуации с двусторонней альтернативой. Сделайте вывод о выдвинутой гипотезе. Критическое значение статистики запишите в переменную `z_crit`, а p-значение в переменную `pval`."
   ]
  },
  {
   "cell_type": "code",
   "execution_count": 6,
   "metadata": {},
   "outputs": [
    {
     "name": "stdout",
     "output_type": "stream",
     "text": [
      "Наблюдаемое значение 2.664 больше критического 1.96. P-value: 0.008\n"
     ]
    }
   ],
   "source": [
    "# your code here\n",
    "z_crit = sts.norm.ppf(1 - alpha/2)\n",
    "pval = 2 * (1 - sts.norm().cdf(z_obs))\n",
    "\n",
    "print(f'Наблюдаемое значение {z_obs:.4} больше критического {z_crit:.4}. P-value: {pval:.1}')"
   ]
  },
  {
   "cell_type": "markdown",
   "metadata": {},
   "source": [
    "> Нулевая гипотеза на 5% уровне значимости отвергается, принимается альтернативная."
   ]
  },
  {
   "cell_type": "markdown",
   "metadata": {},
   "source": [
    "Можно заметить, что у распределения числа репостов длинные хвосты. В данных есть выбросы, которые завышают среднее значение. Если выбросы сильные, то ЦПТ может ломаться. Из-за этого имеет смысл в данном случае проверять гипотезу о равенстве медиан, которые устойчивы к выбросам.\n",
    "\n",
    "-------------------"
   ]
  },
  {
   "cell_type": "markdown",
   "metadata": {},
   "source": [
    "## Задание 2  (Тайлер) \n",
    "\n",
    "__Люди всё время меня спрашивают, знаю ли я Тайлера Дёрдена?__ Да, знаю. Он делает лучшее мыло в стране. \n",
    "\n",
    "__а)__ Тайлер считает партию изделий хорошей, если дисперсия размера не превышает $25$ грамм$^2$. Пока Тайлер летел в самолёте, он измерил $10$ кусков мыла. Выборочная дисперсия оказалась равна $27$ грамм$^2$. Можно ли продавать эту партию или её надо списать в брак? \n",
    "\n",
    "При проверке этой гипотезы найдите $p$-значение и запишите его в переменную `pval1`. Наблюдаемое значение статистики запишите в переменную `chi_obs`. Используйте уровень значимости $1\\%$.\n",
    "\n",
    "Проверим гипотезу:\n",
    "$$ H_0: \\hspace{2mm} \\sigma^2_1 = \\sigma^2_2 \\hspace{2mm} \\text{Неоднородность одинаковая} $$\n",
    "$$ H_a: \\hspace{2mm} \\sigma^2_2 > \\sigma^2_1  \\hspace{2mm} \\text{Неоднородность партии выше} $$"
   ]
  },
  {
   "cell_type": "code",
   "execution_count": 7,
   "metadata": {},
   "outputs": [
    {
     "name": "stdout",
     "output_type": "stream",
     "text": [
      "Наблюдаемое значение 9.72 меньше критического 21.666. P-value: 0.3736\n"
     ]
    }
   ],
   "source": [
    "# your code here\n",
    "alpha = 0.01\n",
    "\n",
    "n = 10\n",
    "s2 = 27\n",
    "var2 = 25\n",
    "\n",
    "chi_obs =  (n - 1) * s2 / var2\n",
    "chi_crit = sts.chi2.ppf(1 - alpha, n - 1)\n",
    "\n",
    "pval1 = sts.chi2(n - 1).sf(chi_obs)\n",
    "\n",
    "print(f'Наблюдаемое значение {chi_obs:.5} меньше критического {chi_crit:.5}. P-value: {pval1:.4}')"
   ]
  },
  {
   "cell_type": "markdown",
   "metadata": {},
   "source": [
    "> Нулевая гипотеза на 1% уровне значимости не отвергается."
   ]
  },
  {
   "cell_type": "markdown",
   "metadata": {},
   "source": [
    "__б)__ Для того, чтобы уменьшить количество бракованного мыла, Тайлер собирается внедрить новую технологию производства. Тайлер произвёл по старой технологии $100$ кусков мыла. Стандартное отклонение этой партии составило $6$ грамм. Для  новой технологии стандартное отклонение, посчитанное по $100$ кускам мыла, составило $5$ грамм. Правда ли, что новая технология обладает меньшей дисперсией и её нужно внедрить на производстве?\n",
    "\n",
    "При проверке этой гипотезы найдите $p$-значение и запишите его в переменную `pval2`. Используйте уровень значимости $1\\%$.\n",
    "\n",
    "\n",
    "Проверим гипотезу:\n",
    "$$ H_0: \\hspace{2mm} \\sigma^2_1 = \\sigma^2_2 \\hspace{2mm} \\text{Неоднородность одинаковая} $$\n",
    "$$ H_a: \\hspace{2mm} \\sigma^2_1 > \\sigma^2_2  \\hspace{2mm} \\text{Неоднородность новой технологии ниже} $$"
   ]
  },
  {
   "cell_type": "code",
   "execution_count": 8,
   "metadata": {},
   "outputs": [
    {
     "name": "stdout",
     "output_type": "stream",
     "text": [
      "Наблюдаемое значение 1.44 меньше критического 1.685. P-value: 0.036\n"
     ]
    }
   ],
   "source": [
    "# your code here\n",
    "alpha = 0.01\n",
    "\n",
    "nx, ny = 100, 100\n",
    "x_var, y_var = 6 ** 2, 5 ** 2\n",
    "\n",
    "F_obs = x_var / y_var\n",
    "\n",
    "f_rv = sts.f(nx - 1, ny - 1) \n",
    "F_crit = f_rv.ppf(1 - alpha/2)\n",
    "\n",
    "pval2 = f_rv.sf(F_obs)\n",
    "\n",
    "print(f'Наблюдаемое значение {F_obs:.4} меньше критического {F_crit:.4}. P-value: {pval2:.2}')"
   ]
  },
  {
   "cell_type": "markdown",
   "metadata": {},
   "source": [
    "> Нулевая гипотеза на 1% уровне значимости не отвергается."
   ]
  },
  {
   "cell_type": "markdown",
   "metadata": {},
   "source": [
    "## Задание 3 (рейтинги президентов) \n",
    "\n",
    "В таблице `presidents.csv` представлены рейтинги различных президентов США. Социальные опросы проводились раз в квартал. Опрашивалась случайная выборка граждан. У каждого спрашивалось одобряет ли он деятельность президента.\n",
    "\n",
    "__Люди всё время меня спрашивают, знаю ли я Никсона.__ Да, Ричард Никсон был президентом США с 20 января 1969 года по 9 августа 1974 года. 17 июня 1972 года произошёл Уотергейтский скандал. Давайте проанализируем, что при этом произошло с его рейтингом."
   ]
  },
  {
   "cell_type": "code",
   "execution_count": 9,
   "metadata": {},
   "outputs": [
    {
     "data": {
      "text/html": [
       "<div>\n",
       "<style scoped>\n",
       "    .dataframe tbody tr th:only-of-type {\n",
       "        vertical-align: middle;\n",
       "    }\n",
       "\n",
       "    .dataframe tbody tr th {\n",
       "        vertical-align: top;\n",
       "    }\n",
       "\n",
       "    .dataframe thead th {\n",
       "        text-align: right;\n",
       "    }\n",
       "</style>\n",
       "<table border=\"1\" class=\"dataframe\">\n",
       "  <thead>\n",
       "    <tr style=\"text-align: right;\">\n",
       "      <th></th>\n",
       "      <th>year</th>\n",
       "      <th>Qtr1</th>\n",
       "      <th>Qtr2</th>\n",
       "      <th>Qtr3</th>\n",
       "      <th>Qtr4</th>\n",
       "    </tr>\n",
       "  </thead>\n",
       "  <tbody>\n",
       "    <tr>\n",
       "      <th>0</th>\n",
       "      <td>1945</td>\n",
       "      <td>NaN</td>\n",
       "      <td>87</td>\n",
       "      <td>82.0</td>\n",
       "      <td>75.0</td>\n",
       "    </tr>\n",
       "    <tr>\n",
       "      <th>1</th>\n",
       "      <td>1946</td>\n",
       "      <td>63.0</td>\n",
       "      <td>50</td>\n",
       "      <td>43.0</td>\n",
       "      <td>32.0</td>\n",
       "    </tr>\n",
       "    <tr>\n",
       "      <th>2</th>\n",
       "      <td>1947</td>\n",
       "      <td>35.0</td>\n",
       "      <td>60</td>\n",
       "      <td>54.0</td>\n",
       "      <td>55.0</td>\n",
       "    </tr>\n",
       "    <tr>\n",
       "      <th>3</th>\n",
       "      <td>1948</td>\n",
       "      <td>36.0</td>\n",
       "      <td>39</td>\n",
       "      <td>NaN</td>\n",
       "      <td>NaN</td>\n",
       "    </tr>\n",
       "    <tr>\n",
       "      <th>4</th>\n",
       "      <td>1949</td>\n",
       "      <td>69.0</td>\n",
       "      <td>57</td>\n",
       "      <td>57.0</td>\n",
       "      <td>51.0</td>\n",
       "    </tr>\n",
       "  </tbody>\n",
       "</table>\n",
       "</div>"
      ],
      "text/plain": [
       "   year  Qtr1  Qtr2  Qtr3  Qtr4\n",
       "0  1945   NaN    87  82.0  75.0\n",
       "1  1946  63.0    50  43.0  32.0\n",
       "2  1947  35.0    60  54.0  55.0\n",
       "3  1948  36.0    39   NaN   NaN\n",
       "4  1949  69.0    57  57.0  51.0"
      ]
     },
     "execution_count": 9,
     "metadata": {},
     "output_type": "execute_result"
    }
   ],
   "source": [
    "df = pd.read_csv('data/presidents.csv')\n",
    "df.head()"
   ]
  },
  {
   "cell_type": "markdown",
   "metadata": {},
   "source": [
    "Чтобы привести таблицу к удобному виду используйте функцию `pd.melt`. Вытащите из таблички рейтинг Никсона с 1 квартала 1969 года по 2 квартал 1972 года (включая его). Запишите эти данные в переменную `x`. Рейтинг с 3 квартала 1972 года по 2 квартал 1974 года поместите в переменную `y`. Пропуски в данных удалите из выборки."
   ]
  },
  {
   "cell_type": "code",
   "execution_count": 10,
   "metadata": {},
   "outputs": [
    {
     "data": {
      "text/html": [
       "<div>\n",
       "<style scoped>\n",
       "    .dataframe tbody tr th:only-of-type {\n",
       "        vertical-align: middle;\n",
       "    }\n",
       "\n",
       "    .dataframe tbody tr th {\n",
       "        vertical-align: top;\n",
       "    }\n",
       "\n",
       "    .dataframe thead th {\n",
       "        text-align: right;\n",
       "    }\n",
       "</style>\n",
       "<table border=\"1\" class=\"dataframe\">\n",
       "  <thead>\n",
       "    <tr style=\"text-align: right;\">\n",
       "      <th></th>\n",
       "      <th>year</th>\n",
       "      <th>variable</th>\n",
       "      <th>value</th>\n",
       "    </tr>\n",
       "  </thead>\n",
       "  <tbody>\n",
       "    <tr>\n",
       "      <th>0</th>\n",
       "      <td>1945</td>\n",
       "      <td>Qtr1</td>\n",
       "      <td>NaN</td>\n",
       "    </tr>\n",
       "    <tr>\n",
       "      <th>30</th>\n",
       "      <td>1945</td>\n",
       "      <td>Qtr2</td>\n",
       "      <td>87.0</td>\n",
       "    </tr>\n",
       "    <tr>\n",
       "      <th>60</th>\n",
       "      <td>1945</td>\n",
       "      <td>Qtr3</td>\n",
       "      <td>82.0</td>\n",
       "    </tr>\n",
       "    <tr>\n",
       "      <th>90</th>\n",
       "      <td>1945</td>\n",
       "      <td>Qtr4</td>\n",
       "      <td>75.0</td>\n",
       "    </tr>\n",
       "    <tr>\n",
       "      <th>1</th>\n",
       "      <td>1946</td>\n",
       "      <td>Qtr1</td>\n",
       "      <td>63.0</td>\n",
       "    </tr>\n",
       "  </tbody>\n",
       "</table>\n",
       "</div>"
      ],
      "text/plain": [
       "    year variable  value\n",
       "0   1945     Qtr1    NaN\n",
       "30  1945     Qtr2   87.0\n",
       "60  1945     Qtr3   82.0\n",
       "90  1945     Qtr4   75.0\n",
       "1   1946     Qtr1   63.0"
      ]
     },
     "execution_count": 10,
     "metadata": {},
     "output_type": "execute_result"
    }
   ],
   "source": [
    "df = pd.melt(df, id_vars=['year'])\n",
    "df = df.sort_values(['year', 'variable'])\n",
    "df.head()"
   ]
  },
  {
   "cell_type": "code",
   "execution_count": 11,
   "metadata": {},
   "outputs": [],
   "source": [
    "# your code here\n",
    "x = df.query('1969 <= year <= 1972').dropna().value\n",
    "y = df.query('1972 <= year <= 1974')[4:-2].value"
   ]
  },
  {
   "cell_type": "markdown",
   "metadata": {},
   "source": [
    "Правда ли, что после скандала средний рейтинг Никсона рухнул? Предполагайте, что рейтинг распределён нормально, а также, что дисперсия рейтинга не изменилась из-за скандала. Наблюдаемое значение статистики запишите в переменную `obs`, в переменную `pval` запишите $p$-значение.\n",
    "\n",
    "Проверим гипотезу:\n",
    "$$ H_0: \\hspace{2mm} \\mu_1 = \\mu_2 \\hspace{2mm} \\text{Рейтинг не изменился} $$\n",
    "$$ H_a: \\hspace{2mm} \\mu_1 > \\mu_2 \\hspace{2mm} \\text{Рейтинг снизился} $$"
   ]
  },
  {
   "cell_type": "code",
   "execution_count": 12,
   "metadata": {},
   "outputs": [
    {
     "name": "stdout",
     "output_type": "stream",
     "text": [
      "Наблюдаемое значение 3.564 больше критического 1.734. P-value: 0.0011\n"
     ]
    }
   ],
   "source": [
    "# your code here\n",
    "alpha = 0.05\n",
    "\n",
    "nx, ny = x.size, y.size\n",
    "diff = x.mean() - y.mean()\n",
    "\n",
    "diff_var = ((nx - 1) * x.var(ddof=1) + (ny - 1) * y.var(ddof=1))/(nx + ny - 2)\n",
    "diff_std = np.sqrt(diff_var/nx + diff_var/ny)\n",
    "\n",
    "obs = diff / diff_std\n",
    "t_crit = sts.t(df = nx + ny - 2).ppf(1 - alpha)\n",
    "\n",
    "pval = sts.t(nx + ny - 2).sf(obs)\n",
    "\n",
    "print(f'Наблюдаемое значение {obs:.4} больше критического {t_crit:.4}. P-value: {pval:.2}')"
   ]
  },
  {
   "cell_type": "code",
   "execution_count": 13,
   "metadata": {},
   "outputs": [
    {
     "data": {
      "text/plain": [
       "(3.5640741313229793, 0.0011087344846424454, 18.0)"
      ]
     },
     "execution_count": 13,
     "metadata": {},
     "output_type": "execute_result"
    }
   ],
   "source": [
    "# То же самое средствами statsmodels\n",
    "ttest_ind(x, y, value=0, alternative='larger')"
   ]
  },
  {
   "cell_type": "markdown",
   "metadata": {},
   "source": [
    "> Нулевая гипотеза на 5% уровне значимости отвергается, принимается альтернативная."
   ]
  },
  {
   "cell_type": "markdown",
   "metadata": {},
   "source": [
    "## Задание 4 (сон)\n",
    "\n",
    "Проводится эксперимент о пользе нового снотворного. Для его проведения используется группа из $10$ студентов. В первый день каждый из них ложится спать. На утро измеряется, сколько он проспал. Из результата вычитают $8$ (нормальное число часов сна). На второй день каждому дают таблетку. Утром снова измеряют сколько человек проспал, и вычитают $8$. Результаты эксперимента записаны в табличку `sleep.csv`."
   ]
  },
  {
   "cell_type": "code",
   "execution_count": 14,
   "metadata": {},
   "outputs": [
    {
     "data": {
      "text/html": [
       "<div>\n",
       "<style scoped>\n",
       "    .dataframe tbody tr th:only-of-type {\n",
       "        vertical-align: middle;\n",
       "    }\n",
       "\n",
       "    .dataframe tbody tr th {\n",
       "        vertical-align: top;\n",
       "    }\n",
       "\n",
       "    .dataframe thead th {\n",
       "        text-align: right;\n",
       "    }\n",
       "</style>\n",
       "<table border=\"1\" class=\"dataframe\">\n",
       "  <thead>\n",
       "    <tr style=\"text-align: right;\">\n",
       "      <th></th>\n",
       "      <th>extra</th>\n",
       "      <th>group</th>\n",
       "      <th>ID</th>\n",
       "    </tr>\n",
       "  </thead>\n",
       "  <tbody>\n",
       "    <tr>\n",
       "      <th>0</th>\n",
       "      <td>0.7</td>\n",
       "      <td>1</td>\n",
       "      <td>1</td>\n",
       "    </tr>\n",
       "    <tr>\n",
       "      <th>1</th>\n",
       "      <td>-1.6</td>\n",
       "      <td>1</td>\n",
       "      <td>2</td>\n",
       "    </tr>\n",
       "    <tr>\n",
       "      <th>2</th>\n",
       "      <td>-0.2</td>\n",
       "      <td>1</td>\n",
       "      <td>3</td>\n",
       "    </tr>\n",
       "    <tr>\n",
       "      <th>3</th>\n",
       "      <td>-1.2</td>\n",
       "      <td>1</td>\n",
       "      <td>4</td>\n",
       "    </tr>\n",
       "    <tr>\n",
       "      <th>4</th>\n",
       "      <td>-0.1</td>\n",
       "      <td>1</td>\n",
       "      <td>5</td>\n",
       "    </tr>\n",
       "  </tbody>\n",
       "</table>\n",
       "</div>"
      ],
      "text/plain": [
       "   extra  group  ID\n",
       "0    0.7      1   1\n",
       "1   -1.6      1   2\n",
       "2   -0.2      1   3\n",
       "3   -1.2      1   4\n",
       "4   -0.1      1   5"
      ]
     },
     "execution_count": 14,
     "metadata": {},
     "output_type": "execute_result"
    }
   ],
   "source": [
    "df = pd.read_csv('data/sleep.csv')\n",
    "df.head()"
   ]
  },
  {
   "cell_type": "markdown",
   "metadata": {},
   "source": [
    "Правда ли, что сон студентов до приёма снотворного не отличается от нормы (отклонение от 8 часов равно нулю). Проверьте эту гипотезу на $5\\%$ уровне значимости, в переменную `pval1` запишите p-значение.\n",
    "\n",
    "<br>\n",
    "Проверим гипотезу:\n",
    "$$ H_0: \\hspace{2mm} \\mu = 8 \\hspace{2mm} \\text{Продолжительность сна не отличается от нормы} $$\n",
    "$$ H_a: \\hspace{2mm} \\mu \\ne 8 \\hspace{2mm} \\text{Продолжительность сна отличается от нормы} $$"
   ]
  },
  {
   "cell_type": "code",
   "execution_count": 15,
   "metadata": {},
   "outputs": [
    {
     "name": "stdout",
     "output_type": "stream",
     "text": [
      "Наблюдаемое значение 1.326 меньше критического 2.262. P-value: 0.218\n"
     ]
    }
   ],
   "source": [
    "# your code here\n",
    "alpha = 0.05\n",
    "\n",
    "x = df[df['group'] == 1].extra.values\n",
    "n = x.size\n",
    "\n",
    "std = x.std(ddof=1)/np.sqrt(n)\n",
    "\n",
    "tobs1 = x.mean() /std\n",
    "t_crit = sts.t(n-1).ppf(1 - alpha/2)\n",
    "pval1 = 2 * sts.t(n-1).sf(tobs1)\n",
    "\n",
    "print(f'Наблюдаемое значение {tobs1:.4} меньше критического {t_crit:.4}. P-value: {pval1:.3}')"
   ]
  },
  {
   "cell_type": "code",
   "execution_count": 16,
   "metadata": {},
   "outputs": [
    {
     "data": {
      "text/plain": [
       "Ttest_1sampResult(statistic=1.3257101407138212, pvalue=0.2175977800684489)"
      ]
     },
     "execution_count": 16,
     "metadata": {},
     "output_type": "execute_result"
    }
   ],
   "source": [
    "# То же самое средствами statsmodels\n",
    "sts.ttest_1samp(x, 0)"
   ]
  },
  {
   "cell_type": "markdown",
   "metadata": {},
   "source": [
    "> Нулевая гипотеза на 5% уровне значимости не отвергается."
   ]
  },
  {
   "cell_type": "markdown",
   "metadata": {},
   "source": [
    "Правда ли, что благодаря таблеткам студенты стали спать больше (односторонняя альтернатива)? Запишите в переменную `pval2` соотвествующее p-значение. \n",
    "\n",
    "<br>\n",
    "Проверим гипотезу:\n",
    "$$ H_0: \\hspace{2mm} \\mu_1 = \\mu_2 \\hspace{2mm} \\text{Продолжительность сна не изменилась} $$\n",
    "$$ H_a: \\hspace{2mm} \\mu_1 < \\mu_2 \\hspace{2mm} \\text{Продолжительность сна увеличилась} $$"
   ]
  },
  {
   "cell_type": "code",
   "execution_count": 17,
   "metadata": {},
   "outputs": [
    {
     "name": "stdout",
     "output_type": "stream",
     "text": [
      "Наблюдаемое значение 4.062 больше критического 1.833. P-value: 0.0014\n"
     ]
    }
   ],
   "source": [
    "# your code here\n",
    "alpha = 0.05\n",
    "\n",
    "y = df[df['group'] == 2].extra.values\n",
    "d = y - x\n",
    "\n",
    "d_mean = d.mean()\n",
    "d_std = d.std(ddof=1) / np.sqrt(n)\n",
    "t_crit2 = sts.t(n - 1).ppf(1 - alpha)\n",
    "\n",
    "tobs2 =  d_mean / d_std\n",
    "pval2 = sts.t(n - 1).sf(tobs2)\n",
    "\n",
    "print(f'Наблюдаемое значение {tobs2:.4} больше критического {t_crit2:.4}. P-value: {pval2:.2}')"
   ]
  },
  {
   "cell_type": "code",
   "execution_count": 18,
   "metadata": {},
   "outputs": [
    {
     "data": {
      "text/plain": [
       "Ttest_relResult(statistic=4.062127683382037, pvalue=0.001416445098692135)"
      ]
     },
     "execution_count": 18,
     "metadata": {},
     "output_type": "execute_result"
    }
   ],
   "source": [
    "# То же самое средствами statsmodels\n",
    "sts.ttest_rel(y, x, alternative='greater')"
   ]
  },
  {
   "cell_type": "markdown",
   "metadata": {},
   "source": [
    "> Нулевая гипотеза на 5% уровне значимости отвергается, принимается альтернативная."
   ]
  },
  {
   "cell_type": "markdown",
   "metadata": {},
   "source": [
    "## Задание 5 (say my name)\n",
    "\n",
    "__Люди всё время меня спрашивают, знает ли меня Барсик.__  Многие владельцы кошек уверены, что их питомцы могут понимать достаточно большое количество слов, а также узнавать собственное имя. Однако долгое время никто не пытался доказать это экспериментально. Разобраться с этой проблемой [решили учёные из Токийского университета.](https://nplus1.ru/news/2019/04/04/cat-name?utm_source=obrazovach&utm_medium=social&utm_campaign=yaponskie-uchenye-dokazali--chto-domashnie-k)\n",
    "\n",
    "Было проведено четыре эксперимента с участием домашних кошек и кошек из кошачьих кафе. Учёные использовали метод привыкания-отвыкания (habituation-dishabituation), который часто используется в экспериментах с участием маленьких детей. \n",
    "\n",
    "В соответствии с гипотезой, которая лежит в основе этого метода, определить реакцию на какой-либо стимул можно, представив его после схожих с ним стимулов. К примеру, для того, чтобы выяснить, может ли младенец узнать свое имя, ему представляют несколько слов подряд: с каждым новым словом его реакция снижается, но появление имени должно (в случае, если ребенок действительно узнает свое имя) ее вернуть. Этот же метод применили и к кошкам: реакция кошек на слова характеризовалась поворотом головы, движением ушей, вокализацией, движениями хвоста или перемещениями.\n",
    "\n",
    "В первом эксперименте исследователи проследили за реакцией кошек на собственное имя, произнесенное хозяином, после четырех существительных (16 кошек, живущих дома с двумя другими кошками или меньше). Данные об этом эксперименте находятся в табличке `cats_names.csv`. "
   ]
  },
  {
   "cell_type": "code",
   "execution_count": 19,
   "metadata": {},
   "outputs": [
    {
     "data": {
      "text/html": [
       "<div>\n",
       "<style scoped>\n",
       "    .dataframe tbody tr th:only-of-type {\n",
       "        vertical-align: middle;\n",
       "    }\n",
       "\n",
       "    .dataframe tbody tr th {\n",
       "        vertical-align: top;\n",
       "    }\n",
       "\n",
       "    .dataframe thead th {\n",
       "        text-align: right;\n",
       "    }\n",
       "</style>\n",
       "<table border=\"1\" class=\"dataframe\">\n",
       "  <thead>\n",
       "    <tr style=\"text-align: right;\">\n",
       "      <th></th>\n",
       "      <th>name</th>\n",
       "      <th>stimuli</th>\n",
       "      <th>Ear moving</th>\n",
       "      <th>Head moving</th>\n",
       "      <th>Tail moving</th>\n",
       "      <th>Vocalising</th>\n",
       "      <th>Displacement</th>\n",
       "      <th>Total Score</th>\n",
       "    </tr>\n",
       "  </thead>\n",
       "  <tbody>\n",
       "    <tr>\n",
       "      <th>0</th>\n",
       "      <td>Cr</td>\n",
       "      <td>Noun 1</td>\n",
       "      <td>1</td>\n",
       "      <td>0</td>\n",
       "      <td>0</td>\n",
       "      <td>0</td>\n",
       "      <td>0</td>\n",
       "      <td>1</td>\n",
       "    </tr>\n",
       "    <tr>\n",
       "      <th>1</th>\n",
       "      <td>Cr</td>\n",
       "      <td>Noun 2</td>\n",
       "      <td>1</td>\n",
       "      <td>1</td>\n",
       "      <td>0</td>\n",
       "      <td>0</td>\n",
       "      <td>0</td>\n",
       "      <td>2</td>\n",
       "    </tr>\n",
       "    <tr>\n",
       "      <th>2</th>\n",
       "      <td>Cr</td>\n",
       "      <td>Noun 3</td>\n",
       "      <td>1</td>\n",
       "      <td>1</td>\n",
       "      <td>0</td>\n",
       "      <td>0</td>\n",
       "      <td>0</td>\n",
       "      <td>2</td>\n",
       "    </tr>\n",
       "    <tr>\n",
       "      <th>3</th>\n",
       "      <td>Cr</td>\n",
       "      <td>Noun 4</td>\n",
       "      <td>0</td>\n",
       "      <td>0</td>\n",
       "      <td>0</td>\n",
       "      <td>0</td>\n",
       "      <td>0</td>\n",
       "      <td>0</td>\n",
       "    </tr>\n",
       "    <tr>\n",
       "      <th>4</th>\n",
       "      <td>Cr</td>\n",
       "      <td>Test Cat's Name</td>\n",
       "      <td>1</td>\n",
       "      <td>0</td>\n",
       "      <td>0</td>\n",
       "      <td>0</td>\n",
       "      <td>0</td>\n",
       "      <td>1</td>\n",
       "    </tr>\n",
       "  </tbody>\n",
       "</table>\n",
       "</div>"
      ],
      "text/plain": [
       "  name          stimuli  Ear moving  Head moving  Tail moving  Vocalising  \\\n",
       "0   Cr           Noun 1           1            0            0           0   \n",
       "1   Cr           Noun 2           1            1            0           0   \n",
       "2   Cr           Noun 3           1            1            0           0   \n",
       "3   Cr           Noun 4           0            0            0           0   \n",
       "4   Cr  Test Cat's Name           1            0            0           0   \n",
       "\n",
       "   Displacement  Total Score  \n",
       "0             0            1  \n",
       "1             0            2  \n",
       "2             0            2  \n",
       "3             0            0  \n",
       "4             0            1  "
      ]
     },
     "execution_count": 19,
     "metadata": {},
     "output_type": "execute_result"
    }
   ],
   "source": [
    "df = pd.read_csv('data/cats_names.csv', sep='\\t')\n",
    "df.head()"
   ]
  },
  {
   "cell_type": "markdown",
   "metadata": {},
   "source": [
    "Будем проверять гипотезу о том, что кошки понимают своё имя с помощью упрощённой процедуры: \n",
    "\n",
    "- Вытащим из таблички все строчки, где экспериментаторы называли $4-$ое существительное. Они помечены в колонке `stimuli` как `Noun 4`. Если в колонке `Total Score` стоит положительное число, будем считать, что кошка среагировала на слово. В вектор `noun4` запишем единицу. В противном случае — ноль. \n",
    "- Вытащим по аналогии информацию о том, откликнулась ли кошка на своё имя (пометка `Test Cat's Name`) в колонке `stimuli`. Запишем её в вектор `name`.\n",
    "- Используем тест о равенстве пропорций для зависимых выборок, чтобы ответить на вопрос \"А правда ли кошка откликается на своё имя?\" В переменную `pval` запишем $p$-значение, полученное при проверке этой гипотезы. \n",
    "\n",
    "<br>\n",
    "\n",
    "Проверим гипотезу:\n",
    "$$ H_0: \\hspace{2mm} p_x = p_y \\hspace{2mm} \\text{Количество откликнувшихся кошек одинаково} $$\n",
    "$$ H_a: \\hspace{2mm} p_x < p_y \\hspace{2mm} \\text{Количество откликнувшихся кошек увеличилось} $$"
   ]
  },
  {
   "cell_type": "code",
   "execution_count": 20,
   "metadata": {},
   "outputs": [
    {
     "data": {
      "text/html": [
       "<div>\n",
       "<style scoped>\n",
       "    .dataframe tbody tr th:only-of-type {\n",
       "        vertical-align: middle;\n",
       "    }\n",
       "\n",
       "    .dataframe tbody tr th {\n",
       "        vertical-align: top;\n",
       "    }\n",
       "\n",
       "    .dataframe thead th {\n",
       "        text-align: right;\n",
       "    }\n",
       "</style>\n",
       "<table border=\"1\" class=\"dataframe\">\n",
       "  <thead>\n",
       "    <tr style=\"text-align: right;\">\n",
       "      <th>name</th>\n",
       "      <th>0</th>\n",
       "      <th>1</th>\n",
       "    </tr>\n",
       "    <tr>\n",
       "      <th>noun_4</th>\n",
       "      <th></th>\n",
       "      <th></th>\n",
       "    </tr>\n",
       "  </thead>\n",
       "  <tbody>\n",
       "    <tr>\n",
       "      <th>0</th>\n",
       "      <td>1</td>\n",
       "      <td>5</td>\n",
       "    </tr>\n",
       "    <tr>\n",
       "      <th>1</th>\n",
       "      <td>1</td>\n",
       "      <td>9</td>\n",
       "    </tr>\n",
       "  </tbody>\n",
       "</table>\n",
       "</div>"
      ],
      "text/plain": [
       "name    0  1\n",
       "noun_4      \n",
       "0       1  5\n",
       "1       1  9"
      ]
     },
     "metadata": {},
     "output_type": "display_data"
    },
    {
     "name": "stdout",
     "output_type": "stream",
     "text": [
      "Наблюдаемое значение 1.789 больше критического 1.645. P-value: 0.037\n"
     ]
    }
   ],
   "source": [
    "# your code here\n",
    "alpha = 0.05\n",
    "\n",
    "noun4 = (df[df.stimuli == \"Noun 4\"]['Total Score'] > 0).astype(int).values\n",
    "name = (df[df.stimuli == \"Test Cat's Name\"]['Total Score'] > 0).astype(int).values\n",
    "\n",
    "# таблица сопряженности\n",
    "table = pd.DataFrame({'noun_4': noun4,\n",
    "                      'name': name})\n",
    "\n",
    "display(pd.crosstab(table.noun_4, table.name))\n",
    "\n",
    "\n",
    "z_obs = (5-1) / np.sqrt(5+1 - (5-1)**2 / 16)\n",
    "z_crit = sts.norm.ppf(1 - alpha)\n",
    "pval = 1 - sts.norm().cdf(z_obs)\n",
    "\n",
    "print(f'Наблюдаемое значение {z_obs:.4} больше критического {z_crit:.4}. P-value: {pval:.2}')"
   ]
  },
  {
   "cell_type": "markdown",
   "metadata": {},
   "source": [
    "> Нулевая гипотеза на 5% уровне значимости отвергается, принимается альтернативная."
   ]
  },
  {
   "cell_type": "markdown",
   "metadata": {},
   "source": [
    "Выводы учёных могут отличаться от наших. Результат проверки гипотезы зависит от многих внешних факторов. Например, от громкости произнесённого кошачьего имени. Все такие факторы надо как-то изолировать.\n",
    "\n",
    "[В оригинальном исследовании](https://www.nature.com/articles/s41598-019-40616-4) учёные реализовывали более сложные статистические процедуры. Они пытались проконтролировать все внешние факторы, которые могли бы повлиять на результаты эксперимента.\n",
    "\n",
    "![](https://cdn.nplus1.ru/images/2019/04/04/47a222337ec0984bcec1644f12b4c328.gif)"
   ]
  },
  {
   "cell_type": "markdown",
   "metadata": {},
   "source": [
    "## Задание 6\n",
    "\n",
    "Лекции по матану на экономическом факультете читают два преподавателя: Злой и Добрый. Каждый год они чередуются. Среди студентов ходит слух, что в год, когда преподаёт Злой, отчисляют куда больше народу. В таблице `matan.csv` лежит информация по $418$ студентам экономического факультета. \n",
    "\n",
    "В столбце `is_angry` стоит единица, если этому студенту преподавал Злой. В столбце `target_1` стоит единица, если человек закончил первый курс. Проверьте гипотезу о том, что Злой отчисляет больше народу. В переменную `pval` запишите $p$-значение, получившееся при проверке гипотезы. "
   ]
  },
  {
   "cell_type": "code",
   "execution_count": 21,
   "metadata": {},
   "outputs": [
    {
     "data": {
      "text/html": [
       "<div>\n",
       "<style scoped>\n",
       "    .dataframe tbody tr th:only-of-type {\n",
       "        vertical-align: middle;\n",
       "    }\n",
       "\n",
       "    .dataframe tbody tr th {\n",
       "        vertical-align: top;\n",
       "    }\n",
       "\n",
       "    .dataframe thead th {\n",
       "        text-align: right;\n",
       "    }\n",
       "</style>\n",
       "<table border=\"1\" class=\"dataframe\">\n",
       "  <thead>\n",
       "    <tr style=\"text-align: right;\">\n",
       "      <th></th>\n",
       "      <th>is_angry</th>\n",
       "      <th>target_1</th>\n",
       "    </tr>\n",
       "  </thead>\n",
       "  <tbody>\n",
       "    <tr>\n",
       "      <th>0</th>\n",
       "      <td>0</td>\n",
       "      <td>1.0</td>\n",
       "    </tr>\n",
       "    <tr>\n",
       "      <th>1</th>\n",
       "      <td>0</td>\n",
       "      <td>1.0</td>\n",
       "    </tr>\n",
       "    <tr>\n",
       "      <th>2</th>\n",
       "      <td>0</td>\n",
       "      <td>1.0</td>\n",
       "    </tr>\n",
       "    <tr>\n",
       "      <th>3</th>\n",
       "      <td>0</td>\n",
       "      <td>0.0</td>\n",
       "    </tr>\n",
       "    <tr>\n",
       "      <th>4</th>\n",
       "      <td>0</td>\n",
       "      <td>1.0</td>\n",
       "    </tr>\n",
       "  </tbody>\n",
       "</table>\n",
       "</div>"
      ],
      "text/plain": [
       "   is_angry  target_1\n",
       "0         0       1.0\n",
       "1         0       1.0\n",
       "2         0       1.0\n",
       "3         0       0.0\n",
       "4         0       1.0"
      ]
     },
     "execution_count": 21,
     "metadata": {},
     "output_type": "execute_result"
    }
   ],
   "source": [
    "df = pd.read_csv('data/matan.csv', sep='\\t')\n",
    "df.head()"
   ]
  },
  {
   "cell_type": "markdown",
   "metadata": {},
   "source": [
    "Проверим гипотезу:\n",
    "$$ H_0: \\hspace{2mm} p_x = p_y \\hspace{2mm} \\text{Количество отчисленных студентов не зависит от преподавателя} $$\n",
    "$$ H_a: \\hspace{2mm} p_x < p_y \\hspace{2mm} \\text{Количество отчисленных студентов у злого преподавателя выше} $$"
   ]
  },
  {
   "cell_type": "code",
   "execution_count": 22,
   "metadata": {},
   "outputs": [
    {
     "name": "stdout",
     "output_type": "stream",
     "text": [
      "Наблюдаемое значение -0.299 меньше критического 1.645. P-value: 0.62\n"
     ]
    }
   ],
   "source": [
    "# your code here\n",
    "alpha = 0.05\n",
    "\n",
    "angry = df[df.is_angry == 1].dropna().target_1.values\n",
    "kind = df[df.is_angry == 0].dropna().target_1.values\n",
    "\n",
    "n1, n2 = kind.size, angry.size,\n",
    "m1, m2 = kind.sum(), angry.sum()\n",
    "\n",
    "p1, p2 = kind.mean(), angry.mean()\n",
    "P = (m1 + m2) / (n1 + n2)\n",
    "\n",
    "diff = p1 - p2\n",
    "diff_std = np.sqrt(P * (1 - P) * (1/n1 + 1/n2))\n",
    "\n",
    "z_obs = diff/diff_std\n",
    "z_crit = sts.norm.ppf(1 - alpha)\n",
    "pval = 1 - sts.norm().cdf(z_obs)\n",
    "\n",
    "print(f'Наблюдаемое значение {z_obs:.4} меньше критического {z_crit:.4}. P-value: {pval:.2}')"
   ]
  },
  {
   "cell_type": "code",
   "execution_count": 23,
   "metadata": {},
   "outputs": [
    {
     "data": {
      "text/plain": [
       "(-0.298976965745299, 0.617521189577339)"
      ]
     },
     "execution_count": 23,
     "metadata": {},
     "output_type": "execute_result"
    }
   ],
   "source": [
    "# То же самое средствами statsmodels\n",
    "proportions_ztest((m1, m2), (n1, n2), value=0, alternative='larger')"
   ]
  },
  {
   "cell_type": "markdown",
   "metadata": {},
   "source": [
    "> Нулевая гипотеза на 5% уровне значимости не отвергается."
   ]
  },
  {
   "cell_type": "markdown",
   "metadata": {},
   "source": [
    "## Задание 7\n",
    "\n",
    "Вася решил проверить известное утверждение о том, что бутерброд падает маслом вниз. Для этого он провёл серию из $200$ испытаний. Бутерброд упал маслом вниз $105$ раз. Маслом вверх $95$ раз. Можно ли утверждать, что бутерброд падает маслом вниз так же часто, как и маслом вверх на уровне значимости $5\\%$? В качестве ответа сохраните в `pval` $p$-значение. \n",
    "\n",
    "__Примечание:__ для поиска дисперсии используйте смещённый вариант. Либо по формуле $\\frac{p\\cdot(1-p)}{n}$ либо с помощью `std(ddof=0)`. При поиске `pval` обратите внимание, что алтернатива двусторонняя. А ещё [прочитайте историю](https://absentis.livejournal.com/27153.html) про то, почему Коперник мазал бутеры маслом. \n",
    "\n",
    "<br>\n",
    "Проверим гипотезу:\n",
    "$$ H_0: \\hspace{2mm} p = 0.5 $$\n",
    "$$ H_a: \\hspace{2mm} p \\ne 0.5 $$"
   ]
  },
  {
   "cell_type": "code",
   "execution_count": 24,
   "metadata": {},
   "outputs": [
    {
     "name": "stdout",
     "output_type": "stream",
     "text": [
      "Наблюдаемое значение 0.71 меньше критического 1.96. P-value: 0.48\n"
     ]
    }
   ],
   "source": [
    "# your code here\n",
    "alpha = 0.05\n",
    "\n",
    "n = 200\n",
    "m = 105\n",
    "\n",
    "p0 = 0.5\n",
    "p = m / n\n",
    "\n",
    "z_obs = (p - p0) / np.sqrt(p * (1 - p) / n)\n",
    "z_crit = sts.norm.ppf(1 - alpha/2)\n",
    "pval = 2 * (1 - sts.norm().cdf(z_obs))\n",
    "\n",
    "print(f'Наблюдаемое значение {z_obs:.2} меньше критического {z_crit:.3}. P-value: {pval:.2}')"
   ]
  },
  {
   "cell_type": "markdown",
   "metadata": {},
   "source": [
    "> Нулевая гипотеза на 5% уровне значимости не отвергается."
   ]
  },
  {
   "cell_type": "markdown",
   "metadata": {},
   "source": [
    "<img src=\"https://raw.githubusercontent.com/FUlyankin/r_probability/master/end_seminars/sem_6/student_teacher_dist.png\" height=\"300\" width=\"600\"> "
   ]
  },
  {
   "cell_type": "markdown",
   "metadata": {},
   "source": [
    "<br>"
   ]
  }
 ],
 "metadata": {
  "kernelspec": {
   "display_name": "Python 3",
   "language": "python",
   "name": "python3"
  },
  "language_info": {
   "codemirror_mode": {
    "name": "ipython",
    "version": 3
   },
   "file_extension": ".py",
   "mimetype": "text/x-python",
   "name": "python",
   "nbconvert_exporter": "python",
   "pygments_lexer": "ipython3",
   "version": "3.8.5"
  }
 },
 "nbformat": 4,
 "nbformat_minor": 4
}
