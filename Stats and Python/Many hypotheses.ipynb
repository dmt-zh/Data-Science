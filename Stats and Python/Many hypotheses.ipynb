{
 "cells": [
  {
   "cell_type": "markdown",
   "metadata": {},
   "source": [
    "#  Береги уровень значимости с молоду"
   ]
  },
  {
   "cell_type": "code",
   "execution_count": 1,
   "metadata": {},
   "outputs": [],
   "source": [
    "import numpy as np\n",
    "import pandas as pd\n",
    "from scipy import stats\n",
    "import seaborn as sns\n",
    "import matplotlib.pyplot as plt\n",
    "\n",
    "plt.style.use('ggplot')\n",
    "%matplotlib inline"
   ]
  },
  {
   "cell_type": "markdown",
   "metadata": {},
   "source": [
    "# Песнь льда и пламени\n",
    "\n",
    "Говорят, Джордж Р.Р. Мартин, автор цикла \"Песнь Льда и Пламени\", истребляет Старков: чаще убивает персонажей, относящихся к этому дому, чем персонажей других домов. В таблице ниже приведено количество персонажей, относящихся к тому или иному дому, упомянутых за первые $4$ книги, а так же количество погибших персонажей.\n",
    "\n",
    "| Дом | Упомянутые персонажи | Погибшие персонажи |\n",
    "|-----|---------------------|------|\n",
    "|House Stark\t| 70 | 25 |\n",
    "|House Lannister | 38 | 7 |\n",
    "|House Greyjoy | 41 | 12 |\n",
    "|Night's Watch |105 | 41 |\n",
    "\n",
    "Нужно проверить гипотезу об этом на $5\\%$ уровне значимости. "
   ]
  },
  {
   "cell_type": "markdown",
   "metadata": {},
   "source": [
    "### Формализация задачи:\n",
    "\n",
    "Нам нужно проверить гипотезу о том, что доля смертей среди Старков совпадает со всеми остальными долями против альтернативы, что хотя бы в одной из ситуаций смертность в доме Старков больше:\n",
    "\n",
    "\\begin{equation*}\n",
    "\\begin{aligned} \n",
    "& H_0: p_S = p_L = p_G = p_{NW}  \\\\\n",
    "& H_1: \\text{хотя бы одна вероятность отличается}  \n",
    "\\end{aligned}\n",
    "\\end{equation*}\n",
    "\n",
    "Протестируем все гипотезы без коррекции на множественное тестирование, а потом введём её. "
   ]
  },
  {
   "cell_type": "code",
   "execution_count": 2,
   "metadata": {},
   "outputs": [],
   "source": [
    "n_st = 70 \n",
    "m_st = 25\n",
    "\n",
    "n_lan = 38\n",
    "m_lan = 7\n",
    "\n",
    "n_gr = 41\n",
    "m_gr = 12 \n",
    "\n",
    "n_nw = 105\n",
    "m_nw = 41 \n",
    "\n",
    "alpha = 0.05"
   ]
  },
  {
   "cell_type": "code",
   "execution_count": 3,
   "metadata": {},
   "outputs": [
    {
     "data": {
      "text/plain": [
       "(0.35714285714285715,\n",
       " 0.18421052631578946,\n",
       " 0.2926829268292683,\n",
       " 0.3904761904761905)"
      ]
     },
     "execution_count": 3,
     "metadata": {},
     "output_type": "execute_result"
    }
   ],
   "source": [
    "m_st/n_st, m_lan/n_lan, m_gr/n_gr, m_nw/n_nw"
   ]
  },
  {
   "cell_type": "markdown",
   "metadata": {},
   "source": [
    "Проверяем три гипотезы!"
   ]
  },
  {
   "cell_type": "code",
   "execution_count": 4,
   "metadata": {},
   "outputs": [
    {
     "data": {
      "text/plain": [
       "array([0.03008672, 0.24343199, 0.67209806])"
      ]
     },
     "execution_count": 4,
     "metadata": {},
     "output_type": "execute_result"
    }
   ],
   "source": [
    "from statsmodels.stats.proportion import proportions_ztest\n",
    "\n",
    "_, p1 =  proportions_ztest((m_st, m_lan), \n",
    "                           (n_st, n_lan), \n",
    "                           value=0, \n",
    "                           alternative='larger')\n",
    "\n",
    "\n",
    "_, p2 =  proportions_ztest((m_st, m_gr), \n",
    "                           (n_st, n_gr), \n",
    "                           value=0, \n",
    "                           alternative='larger')\n",
    "\n",
    "_, p3 =  proportions_ztest((m_st, m_nw),\n",
    "                           (n_st, n_nw), \n",
    "                           value=0,\n",
    "                           alternative='larger')\n",
    "\n",
    "pval = np.array([p1, p2, p3])\n",
    "pval"
   ]
  },
  {
   "cell_type": "code",
   "execution_count": 5,
   "metadata": {},
   "outputs": [
    {
     "data": {
      "text/plain": [
       "array([False,  True,  True])"
      ]
     },
     "execution_count": 5,
     "metadata": {},
     "output_type": "execute_result"
    }
   ],
   "source": [
    "pval > 0.05 # без коррекции, TRUE - не отвергается"
   ]
  },
  {
   "cell_type": "markdown",
   "metadata": {},
   "source": [
    "Самая первая гипотеза отвергается. Отсюда делаем вывод, что смертность значимо различается. Помним, что ошибка первого рода - ошибочный выбор альтернативы. В случае, когда мы никак не контролируем уровень значимости она оказывается завышена. Посмотрим, что будет происходить при корекции. "
   ]
  },
  {
   "cell_type": "markdown",
   "metadata": {},
   "source": [
    "__а)__ Коррекция Бонферрони"
   ]
  },
  {
   "cell_type": "code",
   "execution_count": 6,
   "metadata": {},
   "outputs": [
    {
     "data": {
      "text/plain": [
       "array([ True,  True,  True])"
      ]
     },
     "execution_count": 6,
     "metadata": {},
     "output_type": "execute_result"
    }
   ],
   "source": [
    "pval > 0.05/3  # поделили уровень значимости на число гипотез :) "
   ]
  },
  {
   "cell_type": "code",
   "execution_count": 7,
   "metadata": {},
   "outputs": [
    {
     "data": {
      "text/plain": [
       "array([0.09026015, 0.73029598, 1.        ])"
      ]
     },
     "execution_count": 7,
     "metadata": {},
     "output_type": "execute_result"
    }
   ],
   "source": [
    "from statsmodels.sandbox.stats.multicomp import multipletests \n",
    "\n",
    "rejected, p_corrected, _, _ = multipletests(pval, \n",
    "                                            alpha = 0.05, \n",
    "                                            method = 'bonferroni') \n",
    "p_corrected"
   ]
  },
  {
   "cell_type": "code",
   "execution_count": 8,
   "metadata": {},
   "outputs": [
    {
     "data": {
      "text/plain": [
       "array([ True,  True,  True])"
      ]
     },
     "execution_count": 8,
     "metadata": {},
     "output_type": "execute_result"
    }
   ],
   "source": [
    "p_corrected > 0.05 # TRUE - не отвергается"
   ]
  },
  {
   "cell_type": "markdown",
   "metadata": {},
   "source": [
    "Все три гипотезы о равенстве смертностей не отвергаются."
   ]
  },
  {
   "cell_type": "markdown",
   "metadata": {},
   "source": [
    "__б)__ Метод Холма"
   ]
  },
  {
   "cell_type": "code",
   "execution_count": 9,
   "metadata": {},
   "outputs": [
    {
     "data": {
      "text/plain": [
       "array([0.09026015, 0.48686399, 0.67209806])"
      ]
     },
     "execution_count": 9,
     "metadata": {},
     "output_type": "execute_result"
    }
   ],
   "source": [
    "rejected, p_corrected, _, _ = multipletests(pval, \n",
    "                                            alpha = 0.05, \n",
    "                                            method = 'holm') \n",
    "p_corrected"
   ]
  },
  {
   "cell_type": "code",
   "execution_count": 10,
   "metadata": {},
   "outputs": [
    {
     "data": {
      "text/plain": [
       "array([ True,  True,  True])"
      ]
     },
     "execution_count": 10,
     "metadata": {},
     "output_type": "execute_result"
    }
   ],
   "source": [
    "p_corrected > 0.05 # TRUE - не отвергается"
   ]
  },
  {
   "cell_type": "markdown",
   "metadata": {},
   "source": [
    "Все три гипотезы о равенстве смертностей не отвергаются."
   ]
  },
  {
   "cell_type": "markdown",
   "metadata": {},
   "source": [
    "__в)__ Метод Бенджамини-Хохберга"
   ]
  },
  {
   "cell_type": "code",
   "execution_count": 11,
   "metadata": {},
   "outputs": [
    {
     "data": {
      "text/plain": [
       "array([0.09026015, 0.36514799, 0.67209806])"
      ]
     },
     "execution_count": 11,
     "metadata": {},
     "output_type": "execute_result"
    }
   ],
   "source": [
    "rejected, p_corrected, _, _ = multipletests(pval, \n",
    "                                            alpha = 0.05,\n",
    "                                            method = 'fdr_bh') \n",
    "p_corrected"
   ]
  },
  {
   "cell_type": "code",
   "execution_count": 12,
   "metadata": {},
   "outputs": [
    {
     "data": {
      "text/plain": [
       "array([ True,  True,  True])"
      ]
     },
     "execution_count": 12,
     "metadata": {},
     "output_type": "execute_result"
    }
   ],
   "source": [
    "p_corrected > 0.05 # TRUE - не отвергается"
   ]
  },
  {
   "cell_type": "markdown",
   "metadata": {},
   "source": [
    "Все три гипотезы о равенстве смертностей не отвергаются. В пакете есть и другие методы коррекции."
   ]
  }
 ],
 "metadata": {
  "kernelspec": {
   "display_name": "Python 3",
   "language": "python",
   "name": "python3"
  },
  "language_info": {
   "codemirror_mode": {
    "name": "ipython",
    "version": 3
   },
   "file_extension": ".py",
   "mimetype": "text/x-python",
   "name": "python",
   "nbconvert_exporter": "python",
   "pygments_lexer": "ipython3",
   "version": "3.8.5"
  }
 },
 "nbformat": 4,
 "nbformat_minor": 2
}
