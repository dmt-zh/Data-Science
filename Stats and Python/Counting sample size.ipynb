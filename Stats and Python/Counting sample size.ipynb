{
 "cells": [
  {
   "cell_type": "markdown",
   "metadata": {},
   "source": [
    "#  Сколько нужно наблюдений"
   ]
  },
  {
   "cell_type": "code",
   "execution_count": 1,
   "metadata": {},
   "outputs": [],
   "source": [
    "import numpy as np\n",
    "import pandas as pd\n",
    "import seaborn as sns\n",
    "import matplotlib.pyplot as plt\n",
    "from scipy import stats\n",
    "\n",
    "from tqdm import tqdm as tqdm_botebook\n",
    "\n",
    "plt.style.use('ggplot')\n",
    "%matplotlib inline"
   ]
  },
  {
   "cell_type": "markdown",
   "metadata": {},
   "source": [
    "# 1. Гипотеза о кнопке\n",
    "\n",
    "Посмотрим на пример с долями. У нас есть две кнопки: старая и новая. Мы хотим проверить гипотезу о том, что доля нажатий по обеим кнопкам совпадает. В качестве альтернативы рассматриваем вариант, что новый дизайн кнопки оказался лучше и нажать на неё хочется больше.\n",
    "\n",
    "$$\n",
    "\\begin{aligned}\n",
    "&H_0: \\hspace{2mm} p_0 = p_a \\\\\n",
    "&H_1: \\hspace{2mm} p_0 < p_a  \n",
    "\\end{aligned}\n",
    "$$\n",
    "\n",
    "Величины $p_0$ и $p_a$ мы оцениваем, как отношение кликов на кнопку к показам в контрольной группе и в тестовой группе. Число наблюдений, которое нам необходимо, в таком случае, можно найти по формуле: \n",
    "\n",
    "$$\n",
    "n = \\left( \\frac{\\sqrt{p_0 \\cdot (1 - p_0) } \\cdot z_{1 - \\alpha} + \\sqrt{p_a \\cdot (1 - p_a) } \\cdot z_{1 - \\beta} }{p_a - p_0}  \\right)^2,\n",
    "$$\n",
    "\n",
    "где $n$- число наблюдений, $\\alpha$ - ошибка первого рода, $\\beta$ - ошибка второго рода, $z_{1 - \\alpha}, z_{1 - \\beta}$ - квантили нормального распределения. \n"
   ]
  },
  {
   "cell_type": "code",
   "execution_count": 2,
   "metadata": {},
   "outputs": [
    {
     "data": {
      "text/plain": [
       "468"
      ]
     },
     "execution_count": 2,
     "metadata": {},
     "output_type": "execute_result"
    }
   ],
   "source": [
    "def get_size(p0, pa, alpha, beta):\n",
    "    za = stats.norm.ppf(1 - alpha)\n",
    "    zb = stats.norm.ppf(1 - beta)    \n",
    "    n = za * np.sqrt(p0*(1 - p0)) + zb * np.sqrt(pa*(1-pa))\n",
    "    n /= (pa - p0)\n",
    "    return int(np.ceil(n*n))\n",
    "\n",
    "alpha = 0.05\n",
    "beta = 0.05\n",
    "\n",
    "# сколько наблюдений надо, чтобы получить ошибки alpha и beta и уловить минимальный эффект pa - p0\n",
    "get_size(0.1, 0.15, alpha, beta) "
   ]
  },
  {
   "cell_type": "markdown",
   "metadata": {},
   "source": [
    "Теперь посчитаем тоже самое с помощью пакета `statsmodels`. Внутри него есть функция `zt_ind_solve_power`. Она может использоваться, чтобы найти любой из параметров: мощность, число наблюдений, эффект, уровень значимости. Три известные части информации подставляются в функцию. Вместо неизвестной пишется `None`. "
   ]
  },
  {
   "cell_type": "markdown",
   "metadata": {},
   "source": [
    "Обратите внимание, что в качестве размера эффекта в функцию подаётся стандартизированный эффект, а не оригинальный (отнормированный на стандартное отклонение)\n",
    "\n",
    "$$\n",
    "effect = \\frac{p_0 - p_a}{se},\n",
    "$$\n",
    "\n",
    "при этом стандартная ошибка считается как \n",
    "\n",
    "$$\n",
    "se = \\sqrt{\\frac{(n_1 - 1)\\cdot s_1^2 + (n_2 - 1) \\cdot s_2^2 }{n_1 + n_2 - 2}}.\n",
    "$$"
   ]
  },
  {
   "cell_type": "code",
   "execution_count": 3,
   "metadata": {},
   "outputs": [
    {
     "data": {
      "text/plain": [
       "0.1521904571390466"
      ]
     },
     "execution_count": 3,
     "metadata": {},
     "output_type": "execute_result"
    }
   ],
   "source": [
    "n_0, n_a = 468, 468   # размеры выборок\n",
    "p_0, p_a = 0.1, 0.15  # доли \n",
    "\n",
    "# дисперсии\n",
    "var_0, var_a = p_0 * (1 - p_0),  p_a * (1 - p_a)\n",
    "\n",
    "# стандартизированный размер эффекта\n",
    "(p_a - p_0) / ((n_0 * np.sqrt(var_0) + n_a * np.sqrt(var_a)) / (n_0 + n_a))"
   ]
  },
  {
   "cell_type": "code",
   "execution_count": 4,
   "metadata": {},
   "outputs": [
    {
     "name": "stdout",
     "output_type": "stream",
     "text": [
      "467.2424266951237\n"
     ]
    }
   ],
   "source": [
    "from statsmodels.stats.power import zt_ind_solve_power\n",
    "\n",
    "alpha = 0.05\n",
    "beta = 0.05\n",
    "\n",
    "# параметр ratio отвечает за то в какой из двух выборок больше наблюдений\n",
    "sample_size = zt_ind_solve_power(\n",
    "                    effect_size=0.15219,  # стандартизованный размер эффекта\n",
    "                    nobs1=None,           # число наблюдений None, тк их хотим найти \n",
    "                    alpha=alpha,          # уровень значимости \n",
    "                    power=(1 - beta),     # мощность\n",
    "                    ratio=1,              # перекос в выборках, если 0, тогда выборка только одна\n",
    "                    alternative='larger'  # альтернатива\n",
    "                )\n",
    "\n",
    "print(sample_size/2) # у нас две выборки, на каждую поровну"
   ]
  },
  {
   "cell_type": "markdown",
   "metadata": {},
   "source": [
    "Подставив `None` вместо другого аргумента функции, можем рассчитать что-нибудь ещё. Например, мощность теста."
   ]
  },
  {
   "cell_type": "code",
   "execution_count": 5,
   "metadata": {},
   "outputs": [
    {
     "data": {
      "text/plain": [
       "0.2847772211312768"
      ]
     },
     "execution_count": 5,
     "metadata": {},
     "output_type": "execute_result"
    }
   ],
   "source": [
    "zt_ind_solve_power(effect_size=0.15219, \n",
    "                   nobs1=100, \n",
    "                   alpha=alpha,\n",
    "                   power=None, \n",
    "                   ratio=1,\n",
    "                   alternative='larger')"
   ]
  },
  {
   "cell_type": "markdown",
   "metadata": {},
   "source": [
    "Или размер эффекта. "
   ]
  },
  {
   "cell_type": "code",
   "execution_count": 6,
   "metadata": {},
   "outputs": [
    {
     "data": {
      "text/plain": [
       "0.1522295561785361"
      ]
     },
     "execution_count": 6,
     "metadata": {},
     "output_type": "execute_result"
    }
   ],
   "source": [
    "zt_ind_solve_power(effect_size=None, \n",
    "                   nobs1=2*467, \n",
    "                   alpha=alpha, \n",
    "                   power=1-beta, \n",
    "                   ratio=1, \n",
    "                   alternative='larger')"
   ]
  },
  {
   "cell_type": "markdown",
   "metadata": {},
   "source": [
    "По аналогии можно работать с любой асимптотически нормальной статистикой. "
   ]
  },
  {
   "cell_type": "markdown",
   "metadata": {},
   "source": [
    "# 2. Другие тесты\n",
    "\n",
    "По аналогии реализованы [многие другие тесты.](https://www.statsmodels.org/stable/stats.html) Например, тест Стьюдента. Рассмотрим тест для равенства средних при неизвестных, но равных дисперсиях. \n",
    "\n",
    "Класс `TTestIndPower` предназначен для анализа мощности для t-теста Стьюдента с независимыми выборками (`TTestPower` для обычного либо с зависимыми выборками).\n",
    "\n",
    "У каждого объекта этого класса есть метод `solve_power`. Он может использоваться, чтобы найти любой из параметров: мощность, число наблюдений, эффект, уровень значимости. Три известные части информации подставляются в функцию. Вместо неизвестной ствится `None`. \n",
    "\n",
    "Снова в качестве эффекта на вход идёт стандартизованный эффект: \n",
    "\n",
    "$$\n",
    "effect = \\frac{\\bar{x_1} - \\bar{x_2}}{se},\n",
    "$$\n"
   ]
  },
  {
   "cell_type": "code",
   "execution_count": 7,
   "metadata": {},
   "outputs": [
    {
     "data": {
      "text/plain": [
       "104.92794663444292"
      ]
     },
     "execution_count": 7,
     "metadata": {},
     "output_type": "execute_result"
    }
   ],
   "source": [
    "from statsmodels.stats.power import TTestIndPower\n",
    "\n",
    "effect = 0.5\n",
    "alpha = 0.05\n",
    "power = 0.95\n",
    "\n",
    "analysis = TTestIndPower()\n",
    "analysis.solve_power(effect, \n",
    "                     power=power, \n",
    "                     nobs1=None, \n",
    "                     alpha=alpha, \n",
    "                     ratio=1)"
   ]
  },
  {
   "cell_type": "markdown",
   "metadata": {},
   "source": [
    "# 3. Кривые мощности\n",
    "\n",
    "Построим для мощностей кривые. Они будут показывать размер эффекта и размер выборки влияют на мощность теста. "
   ]
  },
  {
   "cell_type": "code",
   "execution_count": 8,
   "metadata": {},
   "outputs": [
    {
     "data": {
      "image/png": "[encoded data removed]",
      "text/plain": [
       "<Figure size 864x504 with 1 Axes>"
      ]
     },
     "metadata": {
      "needs_background": "light"
     },
     "output_type": "display_data"
    }
   ],
   "source": [
    "effect_sizes = np.array([0.2, 0.5, 0.8])\n",
    "sample_sizes = np.array(range(5, 100))\n",
    "\n",
    "analysis = TTestIndPower()\n",
    "\n",
    "_, axes = plt.subplots(1, 1, figsize=(12,7))\n",
    "\n",
    "analysis.plot_power(\n",
    "    dep_var='nobs',\n",
    "    nobs=sample_sizes, \n",
    "    effect_size=effect_sizes,\n",
    "    ax=axes\n",
    ")\n",
    "\n",
    "axes.set_title(\"Мощность теста при разном размере эффекта\", fontsize=20)\n",
    "axes.set_xlabel(\"Размер выборки\", fontsize=14)\n",
    "axes.set_ylabel(\"Мощность\", fontsize=14)\n",
    "plt.legend(fontsize=16);"
   ]
  },
  {
   "cell_type": "markdown",
   "metadata": {},
   "source": [
    "На графике мы видим как меняется мощность критерия при трёх разных размерах эффекта. Если нас интересует большой эффект, то мы выходим к единице при примерно $60$ наблюдениях."
   ]
  },
  {
   "cell_type": "markdown",
   "metadata": {},
   "source": [
    "   "
   ]
  }
 ],
 "metadata": {
  "kernelspec": {
   "display_name": "Python 3",
   "language": "python",
   "name": "python3"
  },
  "language_info": {
   "codemirror_mode": {
    "name": "ipython",
    "version": 3
   },
   "file_extension": ".py",
   "mimetype": "text/x-python",
   "name": "python",
   "nbconvert_exporter": "python",
   "pygments_lexer": "ipython3",
   "version": "3.8.5"
  }
 },
 "nbformat": 4,
 "nbformat_minor": 2
}
