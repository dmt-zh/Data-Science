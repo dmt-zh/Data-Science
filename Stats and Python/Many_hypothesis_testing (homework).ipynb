{
 "cells": [
  {
   "cell_type": "markdown",
   "metadata": {},
   "source": [
    "# Множественная проверка гипотез\n",
    "\n",
    "В этой тетрадке мы будем работать с данными про Баскетбол."
   ]
  },
  {
   "cell_type": "code",
   "execution_count": 1,
   "metadata": {},
   "outputs": [],
   "source": [
    "import numpy as np\n",
    "import pandas as pd\n",
    "from scipy import stats as sts\n",
    "from statsmodels.stats.proportion import proportions_ztest\n",
    "from statsmodels.sandbox.stats.multicomp import multipletests \n",
    "\n",
    "import seaborn as sns\n",
    "import matplotlib.pyplot as plt\n",
    "\n",
    "plt.style.use('ggplot')\n",
    "%matplotlib inline\n",
    "\n",
    "import warnings\n",
    "warnings.filterwarnings('ignore')"
   ]
  },
  {
   "cell_type": "markdown",
   "metadata": {},
   "source": [
    "В файле `basketball.tsv` лежит [статистика о штрафных бросках в играх в Баскетбол, собранная с сайта ESPN.com](https://www.kaggle.com/sebastianmantey/nba-free-throws)\n",
    "\n",
    "__Описание колонок:__\n",
    "\n",
    "* `end_result` - результат игры\n",
    "* `game` - какие команды играли, команда справа - хозяин площадки\n",
    "* `game_id` - уникальный id игры\n",
    "* `period` - период\n",
    "* `player` - имя игрока\n",
    "* `playoff` - тип игры\n",
    "* `score` - счёт после броска \n",
    "* `season` - сезон игры\n",
    "* `shot_made` - попал или не попал в кольцо при броске \n",
    "* `time` - время броска \n",
    "* `command` - предполагаемая команда игрока (колонка рассчитана по датасету)\n",
    "* `is_home` - домашний матч или в гостях"
   ]
  },
  {
   "cell_type": "code",
   "execution_count": 2,
   "metadata": {},
   "outputs": [
    {
     "name": "stdout",
     "output_type": "stream",
     "text": [
      "(618019, 13)\n"
     ]
    },
    {
     "data": {
      "text/html": [
       "<div>\n",
       "<style scoped>\n",
       "    .dataframe tbody tr th:only-of-type {\n",
       "        vertical-align: middle;\n",
       "    }\n",
       "\n",
       "    .dataframe tbody tr th {\n",
       "        vertical-align: top;\n",
       "    }\n",
       "\n",
       "    .dataframe thead th {\n",
       "        text-align: right;\n",
       "    }\n",
       "</style>\n",
       "<table border=\"1\" class=\"dataframe\">\n",
       "  <thead>\n",
       "    <tr style=\"text-align: right;\">\n",
       "      <th></th>\n",
       "      <th>end_result</th>\n",
       "      <th>game</th>\n",
       "      <th>game_id</th>\n",
       "      <th>period</th>\n",
       "      <th>play</th>\n",
       "      <th>player</th>\n",
       "      <th>playoffs</th>\n",
       "      <th>score</th>\n",
       "      <th>season</th>\n",
       "      <th>shot_made</th>\n",
       "      <th>time</th>\n",
       "      <th>command</th>\n",
       "      <th>is_home</th>\n",
       "    </tr>\n",
       "  </thead>\n",
       "  <tbody>\n",
       "    <tr>\n",
       "      <th>0</th>\n",
       "      <td>106 - 114</td>\n",
       "      <td>PHX - LAL</td>\n",
       "      <td>261031013.0</td>\n",
       "      <td>1.0</td>\n",
       "      <td>Andrew Bynum makes free throw 1 of 2</td>\n",
       "      <td>Andrew Bynum</td>\n",
       "      <td>regular</td>\n",
       "      <td>0 - 1</td>\n",
       "      <td>2006 - 2007</td>\n",
       "      <td>1</td>\n",
       "      <td>11:45</td>\n",
       "      <td>LAL</td>\n",
       "      <td>False</td>\n",
       "    </tr>\n",
       "    <tr>\n",
       "      <th>1</th>\n",
       "      <td>106 - 114</td>\n",
       "      <td>PHX - LAL</td>\n",
       "      <td>261031013.0</td>\n",
       "      <td>1.0</td>\n",
       "      <td>Andrew Bynum makes free throw 2 of 2</td>\n",
       "      <td>Andrew Bynum</td>\n",
       "      <td>regular</td>\n",
       "      <td>0 - 2</td>\n",
       "      <td>2006 - 2007</td>\n",
       "      <td>1</td>\n",
       "      <td>11:45</td>\n",
       "      <td>LAL</td>\n",
       "      <td>False</td>\n",
       "    </tr>\n",
       "    <tr>\n",
       "      <th>2</th>\n",
       "      <td>106 - 114</td>\n",
       "      <td>PHX - LAL</td>\n",
       "      <td>261031013.0</td>\n",
       "      <td>1.0</td>\n",
       "      <td>Andrew Bynum makes free throw 1 of 2</td>\n",
       "      <td>Andrew Bynum</td>\n",
       "      <td>regular</td>\n",
       "      <td>18 - 12</td>\n",
       "      <td>2006 - 2007</td>\n",
       "      <td>1</td>\n",
       "      <td>7:26</td>\n",
       "      <td>LAL</td>\n",
       "      <td>False</td>\n",
       "    </tr>\n",
       "    <tr>\n",
       "      <th>3</th>\n",
       "      <td>106 - 114</td>\n",
       "      <td>PHX - LAL</td>\n",
       "      <td>261031013.0</td>\n",
       "      <td>1.0</td>\n",
       "      <td>Andrew Bynum misses free throw 2 of 2</td>\n",
       "      <td>Andrew Bynum</td>\n",
       "      <td>regular</td>\n",
       "      <td>18 - 12</td>\n",
       "      <td>2006 - 2007</td>\n",
       "      <td>0</td>\n",
       "      <td>7:26</td>\n",
       "      <td>LAL</td>\n",
       "      <td>False</td>\n",
       "    </tr>\n",
       "    <tr>\n",
       "      <th>4</th>\n",
       "      <td>106 - 114</td>\n",
       "      <td>PHX - LAL</td>\n",
       "      <td>261031013.0</td>\n",
       "      <td>1.0</td>\n",
       "      <td>Shawn Marion makes free throw 1 of 1</td>\n",
       "      <td>Shawn Marion</td>\n",
       "      <td>regular</td>\n",
       "      <td>21 - 12</td>\n",
       "      <td>2006 - 2007</td>\n",
       "      <td>1</td>\n",
       "      <td>7:18</td>\n",
       "      <td>PHX</td>\n",
       "      <td>True</td>\n",
       "    </tr>\n",
       "  </tbody>\n",
       "</table>\n",
       "</div>"
      ],
      "text/plain": [
       "  end_result       game      game_id  period  \\\n",
       "0  106 - 114  PHX - LAL  261031013.0     1.0   \n",
       "1  106 - 114  PHX - LAL  261031013.0     1.0   \n",
       "2  106 - 114  PHX - LAL  261031013.0     1.0   \n",
       "3  106 - 114  PHX - LAL  261031013.0     1.0   \n",
       "4  106 - 114  PHX - LAL  261031013.0     1.0   \n",
       "\n",
       "                                    play        player playoffs    score  \\\n",
       "0   Andrew Bynum makes free throw 1 of 2  Andrew Bynum  regular    0 - 1   \n",
       "1   Andrew Bynum makes free throw 2 of 2  Andrew Bynum  regular    0 - 2   \n",
       "2   Andrew Bynum makes free throw 1 of 2  Andrew Bynum  regular  18 - 12   \n",
       "3  Andrew Bynum misses free throw 2 of 2  Andrew Bynum  regular  18 - 12   \n",
       "4   Shawn Marion makes free throw 1 of 1  Shawn Marion  regular  21 - 12   \n",
       "\n",
       "        season  shot_made   time command  is_home  \n",
       "0  2006 - 2007          1  11:45     LAL    False  \n",
       "1  2006 - 2007          1  11:45     LAL    False  \n",
       "2  2006 - 2007          1   7:26     LAL    False  \n",
       "3  2006 - 2007          0   7:26     LAL    False  \n",
       "4  2006 - 2007          1   7:18     PHX     True  "
      ]
     },
     "execution_count": 2,
     "metadata": {},
     "output_type": "execute_result"
    }
   ],
   "source": [
    "df = pd.read_csv('data/basketball.tsv', sep='\\t')\n",
    "print(df.shape)\n",
    "df.head()"
   ]
  },
  {
   "cell_type": "markdown",
   "metadata": {},
   "source": [
    "# 1. Доля попаданий в корзину\n",
    "\n",
    "Немного посмотрим на наши данные. Ответьте на следующие вопросы и запишите ответы в соотвествующие переменные. \n",
    "\n",
    "Сколько уникальных игр было сыграно в течение всего периода, который есть в таблице (`ans1`)? Сколько в данных встречается уникальных игроков (`ans2`)?"
   ]
  },
  {
   "cell_type": "code",
   "execution_count": 3,
   "metadata": {},
   "outputs": [
    {
     "name": "stdout",
     "output_type": "stream",
     "text": [
      "Сыграно уникальных игр в течение всего периода: 12874\n",
      "Количество уникальных игроков: 1098\n"
     ]
    }
   ],
   "source": [
    "# your code here\n",
    "ans1 = df.game_id.nunique()\n",
    "ans2 = df.player.nunique()\n",
    "\n",
    "print(f'Сыграно уникальных игр в течение всего периода: {ans1}')\n",
    "print(f'Количество уникальных игроков: {ans2}')"
   ]
  },
  {
   "cell_type": "markdown",
   "metadata": {},
   "source": [
    "Подсчитайте по каждому игроку статистику, связанную с тем, как часто он попадет в корзину при бросках:\n",
    "\n",
    "- Долю попаданий в корзину среди его бросков, $\\hat{p}$\n",
    "- Число бросков, которое было сделано игроком, $n$\n",
    "\n",
    "Среди игроков, которые сделали более ста бросков, найдите самого успешного. Запишите его в переменную `ans3`."
   ]
  },
  {
   "cell_type": "code",
   "execution_count": 4,
   "metadata": {},
   "outputs": [
    {
     "name": "stdout",
     "output_type": "stream",
     "text": [
      "Самый успешный игрок с количеством бросков > 100: Steve Nash\n"
     ]
    }
   ],
   "source": [
    "# your code here\n",
    "\n",
    "stats_players = (\n",
    "    df\n",
    "      .groupby('player', as_index=False)\n",
    "      .agg({'shot_made': ['count', 'mean']})\n",
    ")\n",
    "\n",
    "stats_players.columns = ['name', 'total', 'perc']\n",
    "best = stats_players[stats_players.total > 100]\n",
    "\n",
    "ans3 = best.loc[best.perc.idxmax][0]\n",
    "\n",
    "print(f'Самый успешный игрок с количеством бросков > 100: {ans3}')"
   ]
  },
  {
   "cell_type": "markdown",
   "metadata": {},
   "source": [
    "Для поиска `ans4` и `ans5` используйте данные по игрокам, сделавшим более ста бросков.  \n",
    "\n",
    "Найдите медиану распределения доли попаданий, запишите её в переменную `ans4`. Найдите значение коэффициента асимметрии, запишите его в переменную `ans5`. Какое значение он принимает? Правда ли, что распределение этой переменной оказывается скошенным?\n",
    "\n",
    "Постройте гистограмму для доли попаданий игроков, нарисуйте на ней пунктирной линией медиану. Проинтерпретируйте то, что вы видите на рисунке. "
   ]
  },
  {
   "cell_type": "code",
   "execution_count": 5,
   "metadata": {},
   "outputs": [
    {
     "name": "stdout",
     "output_type": "stream",
     "text": [
      "Медиана распределения доли попаданий = 0.757\n",
      "Распределение скошено влево, коэф. асимметрии = -1.037\n"
     ]
    }
   ],
   "source": [
    "# your code here\n",
    "\n",
    "ans4 = best.perc.median()\n",
    "ans5 = sts.skew(best.perc)\n",
    "\n",
    "print(f'Медиана распределения доли попаданий = {ans4:.3}')\n",
    "print(f'Распределение скошено влево, коэф. асимметрии = {ans5:.4}')"
   ]
  },
  {
   "cell_type": "code",
   "execution_count": 6,
   "metadata": {},
   "outputs": [
    {
     "data": {
      "image/png": "[encoded data removed]",
      "text/plain": [
       "<Figure size 432x288 with 1 Axes>"
      ]
     },
     "metadata": {
      "needs_background": "light"
     },
     "output_type": "display_data"
    }
   ],
   "source": [
    "plt.hist(best.perc, bins=25, alpha=0.8)\n",
    "plt.axvline(ans4, color=\"blue\", linestyle='dashed', lw=2)\n",
    "plt.text(ans4 - 0.12, plt.ylim()[1] * 0.92, f'Me = {ans4:.2}', color='blue', fontsize=12);"
   ]
  },
  {
   "cell_type": "markdown",
   "metadata": {},
   "source": [
    "Видно, что распределение скошено - у него более тяжелый левый хвост."
   ]
  },
  {
   "cell_type": "markdown",
   "metadata": {},
   "source": [
    "# 2. Игры дома и в гостях\n",
    "\n",
    "Проанализируем, как часто игроки попадают в корзину дома и как часто в гостях. Подсчитайте доли попаданий в корзину в гостях и дома для всех ироков из выборки. Если для какого-то игрока оказывается, что он всегда играл только дома/только в гостях, удалите его из выборки.\n",
    "\n",
    "Проверьте гипотезу о равенстве этих долей для каждого игрока против двусторонней альтернативы. Число гипотез, которые отклоняются на уровне значимости $5\\%$,  запишите в переменную `ans6`. "
   ]
  },
  {
   "cell_type": "code",
   "execution_count": 7,
   "metadata": {},
   "outputs": [
    {
     "name": "stdout",
     "output_type": "stream",
     "text": [
      "Размерность данных: (1028, 6)\n"
     ]
    },
    {
     "data": {
      "text/html": [
       "<div>\n",
       "<style scoped>\n",
       "    .dataframe tbody tr th:only-of-type {\n",
       "        vertical-align: middle;\n",
       "    }\n",
       "\n",
       "    .dataframe tbody tr th {\n",
       "        vertical-align: top;\n",
       "    }\n",
       "\n",
       "    .dataframe thead th {\n",
       "        text-align: right;\n",
       "    }\n",
       "</style>\n",
       "<table border=\"1\" class=\"dataframe\">\n",
       "  <thead>\n",
       "    <tr style=\"text-align: right;\">\n",
       "      <th></th>\n",
       "      <th>away_total</th>\n",
       "      <th>home_total</th>\n",
       "      <th>away_result</th>\n",
       "      <th>home_result</th>\n",
       "      <th>away_mean</th>\n",
       "      <th>home_mean</th>\n",
       "    </tr>\n",
       "    <tr>\n",
       "      <th>player</th>\n",
       "      <th></th>\n",
       "      <th></th>\n",
       "      <th></th>\n",
       "      <th></th>\n",
       "      <th></th>\n",
       "      <th></th>\n",
       "    </tr>\n",
       "  </thead>\n",
       "  <tbody>\n",
       "    <tr>\n",
       "      <th>A.J. Price</th>\n",
       "      <td>150.0</td>\n",
       "      <td>132.0</td>\n",
       "      <td>115.0</td>\n",
       "      <td>96.0</td>\n",
       "      <td>0.766667</td>\n",
       "      <td>0.727273</td>\n",
       "    </tr>\n",
       "    <tr>\n",
       "      <th>Aaron Brooks</th>\n",
       "      <td>572.0</td>\n",
       "      <td>537.0</td>\n",
       "      <td>474.0</td>\n",
       "      <td>454.0</td>\n",
       "      <td>0.828671</td>\n",
       "      <td>0.845438</td>\n",
       "    </tr>\n",
       "    <tr>\n",
       "      <th>Aaron Gordon</th>\n",
       "      <td>134.0</td>\n",
       "      <td>120.0</td>\n",
       "      <td>92.0</td>\n",
       "      <td>81.0</td>\n",
       "      <td>0.686567</td>\n",
       "      <td>0.675000</td>\n",
       "    </tr>\n",
       "    <tr>\n",
       "      <th>Aaron Gray</th>\n",
       "      <td>147.0</td>\n",
       "      <td>192.0</td>\n",
       "      <td>91.0</td>\n",
       "      <td>98.0</td>\n",
       "      <td>0.619048</td>\n",
       "      <td>0.510417</td>\n",
       "    </tr>\n",
       "    <tr>\n",
       "      <th>Aaron Williams</th>\n",
       "      <td>26.0</td>\n",
       "      <td>14.0</td>\n",
       "      <td>20.0</td>\n",
       "      <td>12.0</td>\n",
       "      <td>0.769231</td>\n",
       "      <td>0.857143</td>\n",
       "    </tr>\n",
       "  </tbody>\n",
       "</table>\n",
       "</div>"
      ],
      "text/plain": [
       "                away_total  home_total  away_result  home_result  away_mean  \\\n",
       "player                                                                        \n",
       "A.J. Price           150.0       132.0        115.0         96.0   0.766667   \n",
       "Aaron Brooks         572.0       537.0        474.0        454.0   0.828671   \n",
       "Aaron Gordon         134.0       120.0         92.0         81.0   0.686567   \n",
       "Aaron Gray           147.0       192.0         91.0         98.0   0.619048   \n",
       "Aaron Williams        26.0        14.0         20.0         12.0   0.769231   \n",
       "\n",
       "                home_mean  \n",
       "player                     \n",
       "A.J. Price       0.727273  \n",
       "Aaron Brooks     0.845438  \n",
       "Aaron Gordon     0.675000  \n",
       "Aaron Gray       0.510417  \n",
       "Aaron Williams   0.857143  "
      ]
     },
     "execution_count": 7,
     "metadata": {},
     "output_type": "execute_result"
    }
   ],
   "source": [
    "# your code here\n",
    "\n",
    "# Сгруппируем данные и сделаем необходимы расчеты\n",
    "score = (\n",
    "    df\n",
    "      .groupby(['player', 'is_home'], as_index=False)\n",
    "      .agg({'shot_made': ['count', 'sum', 'mean']})\n",
    "      .pivot(index='player', columns='is_home', values=[('shot_made', 'count'), ('shot_made', 'sum'), ('shot_made',  'mean')])\n",
    "      .dropna()\n",
    ")\n",
    "\n",
    "score.columns = ['away_total', 'home_total', 'away_result', 'home_result', 'away_mean', 'home_mean']\n",
    "\n",
    "# Посмотрим на итоговый датасет\n",
    "print(f'Размерность данных: {score.shape}')\n",
    "score.head()"
   ]
  },
  {
   "cell_type": "code",
   "execution_count": 8,
   "metadata": {},
   "outputs": [
    {
     "data": {
      "text/html": [
       "<div>\n",
       "<style scoped>\n",
       "    .dataframe tbody tr th:only-of-type {\n",
       "        vertical-align: middle;\n",
       "    }\n",
       "\n",
       "    .dataframe tbody tr th {\n",
       "        vertical-align: top;\n",
       "    }\n",
       "\n",
       "    .dataframe thead th {\n",
       "        text-align: right;\n",
       "    }\n",
       "</style>\n",
       "<table border=\"1\" class=\"dataframe\">\n",
       "  <thead>\n",
       "    <tr style=\"text-align: right;\">\n",
       "      <th></th>\n",
       "      <th>away_total</th>\n",
       "      <th>home_total</th>\n",
       "      <th>away_result</th>\n",
       "      <th>home_result</th>\n",
       "      <th>away_mean</th>\n",
       "      <th>home_mean</th>\n",
       "      <th>pvalue</th>\n",
       "    </tr>\n",
       "    <tr>\n",
       "      <th>player</th>\n",
       "      <th></th>\n",
       "      <th></th>\n",
       "      <th></th>\n",
       "      <th></th>\n",
       "      <th></th>\n",
       "      <th></th>\n",
       "      <th></th>\n",
       "    </tr>\n",
       "  </thead>\n",
       "  <tbody>\n",
       "    <tr>\n",
       "      <th>A.J. Price</th>\n",
       "      <td>150.0</td>\n",
       "      <td>132.0</td>\n",
       "      <td>115.0</td>\n",
       "      <td>96.0</td>\n",
       "      <td>0.766667</td>\n",
       "      <td>0.727273</td>\n",
       "      <td>0.446938</td>\n",
       "    </tr>\n",
       "    <tr>\n",
       "      <th>Aaron Brooks</th>\n",
       "      <td>572.0</td>\n",
       "      <td>537.0</td>\n",
       "      <td>474.0</td>\n",
       "      <td>454.0</td>\n",
       "      <td>0.828671</td>\n",
       "      <td>0.845438</td>\n",
       "      <td>0.450220</td>\n",
       "    </tr>\n",
       "    <tr>\n",
       "      <th>Aaron Gordon</th>\n",
       "      <td>134.0</td>\n",
       "      <td>120.0</td>\n",
       "      <td>92.0</td>\n",
       "      <td>81.0</td>\n",
       "      <td>0.686567</td>\n",
       "      <td>0.675000</td>\n",
       "      <td>0.843453</td>\n",
       "    </tr>\n",
       "    <tr>\n",
       "      <th>Aaron Gray</th>\n",
       "      <td>147.0</td>\n",
       "      <td>192.0</td>\n",
       "      <td>91.0</td>\n",
       "      <td>98.0</td>\n",
       "      <td>0.619048</td>\n",
       "      <td>0.510417</td>\n",
       "      <td>0.045971</td>\n",
       "    </tr>\n",
       "    <tr>\n",
       "      <th>Aaron Williams</th>\n",
       "      <td>26.0</td>\n",
       "      <td>14.0</td>\n",
       "      <td>20.0</td>\n",
       "      <td>12.0</td>\n",
       "      <td>0.769231</td>\n",
       "      <td>0.857143</td>\n",
       "      <td>0.507335</td>\n",
       "    </tr>\n",
       "  </tbody>\n",
       "</table>\n",
       "</div>"
      ],
      "text/plain": [
       "                away_total  home_total  away_result  home_result  away_mean  \\\n",
       "player                                                                        \n",
       "A.J. Price           150.0       132.0        115.0         96.0   0.766667   \n",
       "Aaron Brooks         572.0       537.0        474.0        454.0   0.828671   \n",
       "Aaron Gordon         134.0       120.0         92.0         81.0   0.686567   \n",
       "Aaron Gray           147.0       192.0         91.0         98.0   0.619048   \n",
       "Aaron Williams        26.0        14.0         20.0         12.0   0.769231   \n",
       "\n",
       "                home_mean    pvalue  \n",
       "player                               \n",
       "A.J. Price       0.727273  0.446938  \n",
       "Aaron Brooks     0.845438  0.450220  \n",
       "Aaron Gordon     0.675000  0.843453  \n",
       "Aaron Gray       0.510417  0.045971  \n",
       "Aaron Williams   0.857143  0.507335  "
      ]
     },
     "execution_count": 8,
     "metadata": {},
     "output_type": "execute_result"
    }
   ],
   "source": [
    "# Объявим функцию для проверки гипотезы о равенстве долей\n",
    "def get_proportions_ztest_pvalue(df):\n",
    "    n_away = df.away_total\n",
    "    m_away = df.away_result\n",
    "\n",
    "    n_home = df.home_total\n",
    "    m_home = df.home_result\n",
    "    \n",
    "    _, p =  proportions_ztest((m_away, m_home), (n_away, n_home), value=0, alternative='two-sided')\n",
    "    return p\n",
    "\n",
    "# Проверим гипотезы о равенстве долей попадания в корзину для каждого игрока\n",
    "score['pvalue'] = score.apply(get_proportions_ztest_pvalue, axis=1)\n",
    "score.head()"
   ]
  },
  {
   "cell_type": "code",
   "execution_count": 9,
   "metadata": {},
   "outputs": [
    {
     "name": "stdout",
     "output_type": "stream",
     "text": [
      "Число отклоняемых нулевых гипотез на уровне значимости 5% => 70\n"
     ]
    }
   ],
   "source": [
    "# Число гипотез, которые отклоняются на уровне значимости 5%\n",
    "ans6 = (score.pvalue < 0.05).sum()\n",
    "print(f'Число отклоняемых нулевых гипотез на уровне значимости 5% => {ans6}')"
   ]
  },
  {
   "cell_type": "markdown",
   "metadata": {},
   "source": [
    "Введите коррекцию с помощью метода Холма. Запишите число гипотез, которые были отклонены на уровне значимости $5\\%$, в переменную `ans7`."
   ]
  },
  {
   "cell_type": "code",
   "execution_count": 10,
   "metadata": {},
   "outputs": [
    {
     "name": "stdout",
     "output_type": "stream",
     "text": [
      "Число отклоняемых нулевых гипотез на уровне значимости 5% => 0\n"
     ]
    }
   ],
   "source": [
    "# your code here\n",
    "rejected, p_corrected, _, _ = multipletests(score['pvalue'].values, alpha = 0.05, method = 'holm') \n",
    "ans7 = (p_corrected < 0.05).sum()\n",
    "print(f'Число отклоняемых нулевых гипотез на уровне значимости 5% => {ans7}')"
   ]
  },
  {
   "cell_type": "markdown",
   "metadata": {},
   "source": [
    "Введите коррекцию с помощью метода Бенжамини-Хохберга. Запишите число гипотез, которые были отклонены на уровне значимости $5\\%$, в переменную `ans8`."
   ]
  },
  {
   "cell_type": "code",
   "execution_count": 11,
   "metadata": {},
   "outputs": [
    {
     "name": "stdout",
     "output_type": "stream",
     "text": [
      "Число отклоняемых нулевых гипотез на уровне значимости 5% => 0\n"
     ]
    }
   ],
   "source": [
    "# your code here\n",
    "rejected, p_corrected, _, _ = multipletests(score['pvalue'].values, alpha = 0.05, method = 'fdr_bh') \n",
    "ans8 = (p_corrected < 0.05).sum()\n",
    "print(f'Число отклоняемых нулевых гипотез на уровне значимости 5% => {ans8}')"
   ]
  },
  {
   "cell_type": "markdown",
   "metadata": {},
   "source": [
    "Объясните разницу, которую вы получили в количестве отклоненных гипотез.\n",
    "\n",
    "**Oбъяснение**:\n",
    "- C ростом числа проверяемых гипотез, вероятность получить ошибку растёт экспоненциально: $ 1 − (1 − \\alpha)^n $\n",
    "- Нужно скорректировать исходный уровень значимости $ \\alpha $\n",
    "- Метод Холма – улучшение поправки Бонферрони, обладает более высокой мощностью\n",
    "- Метод Бенджамини-Хохберга обычно оказывается более мощным, чем методы контролирующие FWER (Family-Wise Error Rate)\n",
    "- Корректировка уровня значимости помогает держать под контролем ложно-положительные результаты"
   ]
  },
  {
   "cell_type": "markdown",
   "metadata": {},
   "source": [
    "<br>"
   ]
  }
 ],
 "metadata": {
  "kernelspec": {
   "display_name": "Python 3",
   "language": "python",
   "name": "python3"
  },
  "language_info": {
   "codemirror_mode": {
    "name": "ipython",
    "version": 3
   },
   "file_extension": ".py",
   "mimetype": "text/x-python",
   "name": "python",
   "nbconvert_exporter": "python",
   "pygments_lexer": "ipython3",
   "version": "3.8.5"
  }
 },
 "nbformat": 4,
 "nbformat_minor": 4
}
