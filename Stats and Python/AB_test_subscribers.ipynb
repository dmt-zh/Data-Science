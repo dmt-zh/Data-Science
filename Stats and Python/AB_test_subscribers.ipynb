{
 "cells": [
  {
   "cell_type": "markdown",
   "metadata": {},
   "source": [
    "#  Обсчёт АБ-теста"
   ]
  },
  {
   "cell_type": "code",
   "execution_count": 1,
   "metadata": {},
   "outputs": [],
   "source": [
    "import numpy as np\n",
    "import pandas as pd\n",
    "\n",
    "import scipy.stats as sts\n",
    "from statsmodels.sandbox.stats.multicomp import multipletests \n",
    "\n",
    "import seaborn as sns\n",
    "import matplotlib.pyplot as plt\n",
    "\n",
    "plt.style.use('ggplot')\n",
    "%matplotlib inline"
   ]
  },
  {
   "cell_type": "markdown",
   "metadata": {},
   "source": [
    "Давайте представим, что у нас с вами есть сервис, который работает по подписке (онлайн игра, стриминговый сервис, например). Один из важных факторов успешности бизнеса в таком случае - это удержание пользователей, нам надо придумать, как заинтересовать пользователя в продлении подпсики. Возникла идея дать скидку в $1\\%$ на продление подписки. Чтобы оценить эфект от этой идеи мы как-то разбили пользователей, которые купили подписку за период теста, на две группы и одним дали скидку на продление, а другим нет."
   ]
  },
  {
   "cell_type": "code",
   "execution_count": 2,
   "metadata": {},
   "outputs": [
    {
     "name": "stdout",
     "output_type": "stream",
     "text": [
      "(25935, 10)\n"
     ]
    },
    {
     "data": {
      "text/html": [
       "<div>\n",
       "<style scoped>\n",
       "    .dataframe tbody tr th:only-of-type {\n",
       "        vertical-align: middle;\n",
       "    }\n",
       "\n",
       "    .dataframe tbody tr th {\n",
       "        vertical-align: top;\n",
       "    }\n",
       "\n",
       "    .dataframe thead th {\n",
       "        text-align: right;\n",
       "    }\n",
       "</style>\n",
       "<table border=\"1\" class=\"dataframe\">\n",
       "  <thead>\n",
       "    <tr style=\"text-align: right;\">\n",
       "      <th></th>\n",
       "      <th>user_id</th>\n",
       "      <th>service_id</th>\n",
       "      <th>product_name</th>\n",
       "      <th>product_duration</th>\n",
       "      <th>rn</th>\n",
       "      <th>sale_date</th>\n",
       "      <th>last_duration_days</th>\n",
       "      <th>new_duration_days</th>\n",
       "      <th>is_same</th>\n",
       "      <th>group</th>\n",
       "    </tr>\n",
       "  </thead>\n",
       "  <tbody>\n",
       "    <tr>\n",
       "      <th>0</th>\n",
       "      <td>47233</td>\n",
       "      <td>929</td>\n",
       "      <td>subscription</td>\n",
       "      <td>1_month</td>\n",
       "      <td>1</td>\n",
       "      <td>2018-12-21</td>\n",
       "      <td>30.0</td>\n",
       "      <td>30</td>\n",
       "      <td>1</td>\n",
       "      <td>0</td>\n",
       "    </tr>\n",
       "    <tr>\n",
       "      <th>1</th>\n",
       "      <td>50195</td>\n",
       "      <td>929</td>\n",
       "      <td>subscription</td>\n",
       "      <td>1_month</td>\n",
       "      <td>1</td>\n",
       "      <td>2019-03-17</td>\n",
       "      <td>30.0</td>\n",
       "      <td>30</td>\n",
       "      <td>1</td>\n",
       "      <td>1</td>\n",
       "    </tr>\n",
       "    <tr>\n",
       "      <th>2</th>\n",
       "      <td>62594</td>\n",
       "      <td>929</td>\n",
       "      <td>subscription</td>\n",
       "      <td>1_month</td>\n",
       "      <td>1</td>\n",
       "      <td>2019-02-08</td>\n",
       "      <td>30.0</td>\n",
       "      <td>30</td>\n",
       "      <td>1</td>\n",
       "      <td>0</td>\n",
       "    </tr>\n",
       "    <tr>\n",
       "      <th>3</th>\n",
       "      <td>68918</td>\n",
       "      <td>929</td>\n",
       "      <td>subscription</td>\n",
       "      <td>1_month</td>\n",
       "      <td>2</td>\n",
       "      <td>2019-03-19</td>\n",
       "      <td>30.0</td>\n",
       "      <td>30</td>\n",
       "      <td>1</td>\n",
       "      <td>1</td>\n",
       "    </tr>\n",
       "    <tr>\n",
       "      <th>4</th>\n",
       "      <td>91900</td>\n",
       "      <td>929</td>\n",
       "      <td>subscription</td>\n",
       "      <td>3_month</td>\n",
       "      <td>1</td>\n",
       "      <td>2018-10-29</td>\n",
       "      <td>30.0</td>\n",
       "      <td>90</td>\n",
       "      <td>0</td>\n",
       "      <td>0</td>\n",
       "    </tr>\n",
       "  </tbody>\n",
       "</table>\n",
       "</div>"
      ],
      "text/plain": [
       "   user_id  service_id  product_name product_duration  rn   sale_date  \\\n",
       "0    47233         929  subscription          1_month   1  2018-12-21   \n",
       "1    50195         929  subscription          1_month   1  2019-03-17   \n",
       "2    62594         929  subscription          1_month   1  2019-02-08   \n",
       "3    68918         929  subscription          1_month   2  2019-03-19   \n",
       "4    91900         929  subscription          3_month   1  2018-10-29   \n",
       "\n",
       "   last_duration_days  new_duration_days  is_same  group  \n",
       "0                30.0                 30        1      0  \n",
       "1                30.0                 30        1      1  \n",
       "2                30.0                 30        1      0  \n",
       "3                30.0                 30        1      1  \n",
       "4                30.0                 90        0      0  "
      ]
     },
     "execution_count": 2,
     "metadata": {},
     "output_type": "execute_result"
    }
   ],
   "source": [
    "df1 = pd.read_csv('data/subscribers_1.csv', sep=',')\n",
    "print(df1.shape)\n",
    "df1.head()"
   ]
  },
  {
   "cell_type": "markdown",
   "metadata": {},
   "source": [
    "* `rn` - порядковый номер покупки подписки за период.  \n",
    "* `last_duration_days` - длительность предыдущей подписки.\n",
    "* `new_duration_days` - длительность текущей подписки.\n",
    "* `is_same` - менялась ли длительность подписки.\n",
    "* `group` - группа теста, в которую попал пользователь. 1 - тест, 0 - контроль."
   ]
  },
  {
   "cell_type": "markdown",
   "metadata": {},
   "source": [
    "__а)__ Обсчитайте результаты АБ-теста. Найдите разницу между старой и новой длительностями подписки. Постройте для этой разницы гистограмму."
   ]
  },
  {
   "cell_type": "code",
   "execution_count": 3,
   "metadata": {},
   "outputs": [
    {
     "data": {
      "text/html": [
       "<div>\n",
       "<style scoped>\n",
       "    .dataframe tbody tr th:only-of-type {\n",
       "        vertical-align: middle;\n",
       "    }\n",
       "\n",
       "    .dataframe tbody tr th {\n",
       "        vertical-align: top;\n",
       "    }\n",
       "\n",
       "    .dataframe thead th {\n",
       "        text-align: right;\n",
       "    }\n",
       "</style>\n",
       "<table border=\"1\" class=\"dataframe\">\n",
       "  <thead>\n",
       "    <tr style=\"text-align: right;\">\n",
       "      <th></th>\n",
       "      <th>count</th>\n",
       "      <th>mean</th>\n",
       "      <th>std</th>\n",
       "      <th>min</th>\n",
       "      <th>25%</th>\n",
       "      <th>50%</th>\n",
       "      <th>75%</th>\n",
       "      <th>max</th>\n",
       "    </tr>\n",
       "    <tr>\n",
       "      <th>group</th>\n",
       "      <th></th>\n",
       "      <th></th>\n",
       "      <th></th>\n",
       "      <th></th>\n",
       "      <th></th>\n",
       "      <th></th>\n",
       "      <th></th>\n",
       "      <th></th>\n",
       "    </tr>\n",
       "  </thead>\n",
       "  <tbody>\n",
       "    <tr>\n",
       "      <th>0</th>\n",
       "      <td>12791.0</td>\n",
       "      <td>2.139004</td>\n",
       "      <td>15.686722</td>\n",
       "      <td>-90.0</td>\n",
       "      <td>0.0</td>\n",
       "      <td>0.0</td>\n",
       "      <td>0.0</td>\n",
       "      <td>150.0</td>\n",
       "    </tr>\n",
       "    <tr>\n",
       "      <th>1</th>\n",
       "      <td>13144.0</td>\n",
       "      <td>1.994827</td>\n",
       "      <td>15.361171</td>\n",
       "      <td>-150.0</td>\n",
       "      <td>0.0</td>\n",
       "      <td>0.0</td>\n",
       "      <td>0.0</td>\n",
       "      <td>150.0</td>\n",
       "    </tr>\n",
       "  </tbody>\n",
       "</table>\n",
       "</div>"
      ],
      "text/plain": [
       "         count      mean        std    min  25%  50%  75%    max\n",
       "group                                                           \n",
       "0      12791.0  2.139004  15.686722  -90.0  0.0  0.0  0.0  150.0\n",
       "1      13144.0  1.994827  15.361171 -150.0  0.0  0.0  0.0  150.0"
      ]
     },
     "execution_count": 3,
     "metadata": {},
     "output_type": "execute_result"
    }
   ],
   "source": [
    "# your code here\n",
    "\n",
    "# Рассчитаем разность между старой и новой длительностями подписки\n",
    "df1['duration_diff'] = df1.new_duration_days - df1.last_duration_days\n",
    "df1.groupby('group').duration_diff.describe()"
   ]
  },
  {
   "cell_type": "code",
   "execution_count": 4,
   "metadata": {},
   "outputs": [
    {
     "data": {
      "image/png": "[encoded data removed]",
      "text/plain": [
       "<Figure size 432x288 with 1 Axes>"
      ]
     },
     "metadata": {
      "needs_background": "light"
     },
     "output_type": "display_data"
    }
   ],
   "source": [
    "# Посмотрим на распределения для каждой группы\n",
    "plt.hist(df1[df1.group == 0].duration_diff, alpha=0.7, label='control')\n",
    "plt.hist(df1[df1.group == 1].duration_diff, alpha=0.8, label='test')\n",
    "plt.legend();"
   ]
  },
  {
   "cell_type": "markdown",
   "metadata": {},
   "source": [
    "Правда ли, что средняя длительность подписки изменилась на $1\\%$ уровне значимости? Для ответа на этот вопрос воспользуйтесь асимптотическим тестом на равенство средних против двусторонней альтернативы. Сохраните в переменную `z_obs` получившееся значение статистики, а в `pvalue` получившееся $p$-значение."
   ]
  },
  {
   "cell_type": "code",
   "execution_count": 5,
   "metadata": {},
   "outputs": [
    {
     "name": "stdout",
     "output_type": "stream",
     "text": [
      "Наблюдаемое значение 0.7476 меньше критического 2.576. P-value: 0.4547\n"
     ]
    }
   ],
   "source": [
    "# your code here\n",
    "alpha = 0.01\n",
    "\n",
    "x = df1[df1.group == 0].duration_diff.values\n",
    "y = df1[df1.group == 1].duration_diff.values\n",
    "\n",
    "nx, ny = x.size, y.size\n",
    "\n",
    "diff = x.mean() - y.mean()\n",
    "diff_std = np.sqrt(x.var(ddof=1) / nx + y.var(ddof=1) / ny)\n",
    "\n",
    "z_obs = diff/diff_std\n",
    "z_crit = sts.norm.ppf(1 - alpha/2)\n",
    "\n",
    "pvalue = 2 * (1 - sts.norm().cdf(z_obs))\n",
    "print(f'Наблюдаемое значение {z_obs:.4} меньше критического {z_crit:.4}. P-value: {pvalue:.4}')"
   ]
  },
  {
   "cell_type": "markdown",
   "metadata": {},
   "source": [
    "__б)__ А теперь представим, что мы продвинутые АБ-тестеры и решили провести ААБ тест (2 контрольные группы и одну тестовую)."
   ]
  },
  {
   "cell_type": "code",
   "execution_count": 6,
   "metadata": {},
   "outputs": [
    {
     "name": "stdout",
     "output_type": "stream",
     "text": [
      "(25935, 10)\n"
     ]
    },
    {
     "data": {
      "text/html": [
       "<div>\n",
       "<style scoped>\n",
       "    .dataframe tbody tr th:only-of-type {\n",
       "        vertical-align: middle;\n",
       "    }\n",
       "\n",
       "    .dataframe tbody tr th {\n",
       "        vertical-align: top;\n",
       "    }\n",
       "\n",
       "    .dataframe thead th {\n",
       "        text-align: right;\n",
       "    }\n",
       "</style>\n",
       "<table border=\"1\" class=\"dataframe\">\n",
       "  <thead>\n",
       "    <tr style=\"text-align: right;\">\n",
       "      <th></th>\n",
       "      <th>user_id</th>\n",
       "      <th>service_id</th>\n",
       "      <th>product_name</th>\n",
       "      <th>product_duration</th>\n",
       "      <th>rn</th>\n",
       "      <th>sale_date</th>\n",
       "      <th>last_duration_days</th>\n",
       "      <th>new_duration_days</th>\n",
       "      <th>is_same</th>\n",
       "      <th>new_group</th>\n",
       "    </tr>\n",
       "  </thead>\n",
       "  <tbody>\n",
       "    <tr>\n",
       "      <th>0</th>\n",
       "      <td>47233</td>\n",
       "      <td>929</td>\n",
       "      <td>subscription</td>\n",
       "      <td>1_month</td>\n",
       "      <td>1</td>\n",
       "      <td>2018-12-21</td>\n",
       "      <td>30.0</td>\n",
       "      <td>30</td>\n",
       "      <td>1</td>\n",
       "      <td>0</td>\n",
       "    </tr>\n",
       "    <tr>\n",
       "      <th>1</th>\n",
       "      <td>50195</td>\n",
       "      <td>929</td>\n",
       "      <td>subscription</td>\n",
       "      <td>1_month</td>\n",
       "      <td>1</td>\n",
       "      <td>2019-03-17</td>\n",
       "      <td>30.0</td>\n",
       "      <td>30</td>\n",
       "      <td>1</td>\n",
       "      <td>2</td>\n",
       "    </tr>\n",
       "    <tr>\n",
       "      <th>2</th>\n",
       "      <td>62594</td>\n",
       "      <td>929</td>\n",
       "      <td>subscription</td>\n",
       "      <td>1_month</td>\n",
       "      <td>1</td>\n",
       "      <td>2019-02-08</td>\n",
       "      <td>30.0</td>\n",
       "      <td>30</td>\n",
       "      <td>1</td>\n",
       "      <td>0</td>\n",
       "    </tr>\n",
       "    <tr>\n",
       "      <th>3</th>\n",
       "      <td>68918</td>\n",
       "      <td>929</td>\n",
       "      <td>subscription</td>\n",
       "      <td>1_month</td>\n",
       "      <td>2</td>\n",
       "      <td>2019-03-19</td>\n",
       "      <td>30.0</td>\n",
       "      <td>30</td>\n",
       "      <td>1</td>\n",
       "      <td>2</td>\n",
       "    </tr>\n",
       "    <tr>\n",
       "      <th>4</th>\n",
       "      <td>91900</td>\n",
       "      <td>929</td>\n",
       "      <td>subscription</td>\n",
       "      <td>3_month</td>\n",
       "      <td>1</td>\n",
       "      <td>2018-10-29</td>\n",
       "      <td>30.0</td>\n",
       "      <td>90</td>\n",
       "      <td>0</td>\n",
       "      <td>0</td>\n",
       "    </tr>\n",
       "  </tbody>\n",
       "</table>\n",
       "</div>"
      ],
      "text/plain": [
       "   user_id  service_id  product_name product_duration  rn   sale_date  \\\n",
       "0    47233         929  subscription          1_month   1  2018-12-21   \n",
       "1    50195         929  subscription          1_month   1  2019-03-17   \n",
       "2    62594         929  subscription          1_month   1  2019-02-08   \n",
       "3    68918         929  subscription          1_month   2  2019-03-19   \n",
       "4    91900         929  subscription          3_month   1  2018-10-29   \n",
       "\n",
       "   last_duration_days  new_duration_days  is_same  new_group  \n",
       "0                30.0                 30        1          0  \n",
       "1                30.0                 30        1          2  \n",
       "2                30.0                 30        1          0  \n",
       "3                30.0                 30        1          2  \n",
       "4                30.0                 90        0          0  "
      ]
     },
     "execution_count": 6,
     "metadata": {},
     "output_type": "execute_result"
    }
   ],
   "source": [
    "df2 = pd.read_csv('data/subscribers_2.csv', sep=',')\n",
    "print(df2.shape)\n",
    "df2.head()"
   ]
  },
  {
   "cell_type": "markdown",
   "metadata": {},
   "source": [
    "* `new_group` - группа теста, в которую попал пользователь. $2$ - тест, $0,1$ - контроль."
   ]
  },
  {
   "cell_type": "markdown",
   "metadata": {},
   "source": [
    "Проверьте гипотезу о том, что в каждой из контрольных групп среднее совпадает с тестовой на уровне значимости $1\\%$. Получившиеся $p$-значения запишите в переменные `pval_1` и `pval_2`. Сделайте корректировку методом Холма. Запишите количество отвергнутых гипотез в переменную `hyp_cnt`. "
   ]
  },
  {
   "cell_type": "code",
   "execution_count": 7,
   "metadata": {},
   "outputs": [
    {
     "data": {
      "text/html": [
       "<div>\n",
       "<style scoped>\n",
       "    .dataframe tbody tr th:only-of-type {\n",
       "        vertical-align: middle;\n",
       "    }\n",
       "\n",
       "    .dataframe tbody tr th {\n",
       "        vertical-align: top;\n",
       "    }\n",
       "\n",
       "    .dataframe thead th {\n",
       "        text-align: right;\n",
       "    }\n",
       "</style>\n",
       "<table border=\"1\" class=\"dataframe\">\n",
       "  <thead>\n",
       "    <tr style=\"text-align: right;\">\n",
       "      <th></th>\n",
       "      <th>count</th>\n",
       "      <th>mean</th>\n",
       "      <th>std</th>\n",
       "      <th>min</th>\n",
       "      <th>25%</th>\n",
       "      <th>50%</th>\n",
       "      <th>75%</th>\n",
       "      <th>max</th>\n",
       "    </tr>\n",
       "    <tr>\n",
       "      <th>new_group</th>\n",
       "      <th></th>\n",
       "      <th></th>\n",
       "      <th></th>\n",
       "      <th></th>\n",
       "      <th></th>\n",
       "      <th></th>\n",
       "      <th></th>\n",
       "      <th></th>\n",
       "    </tr>\n",
       "  </thead>\n",
       "  <tbody>\n",
       "    <tr>\n",
       "      <th>0</th>\n",
       "      <td>8509.0</td>\n",
       "      <td>2.023740</td>\n",
       "      <td>14.845036</td>\n",
       "      <td>-150.0</td>\n",
       "      <td>0.0</td>\n",
       "      <td>0.0</td>\n",
       "      <td>0.0</td>\n",
       "      <td>150.0</td>\n",
       "    </tr>\n",
       "    <tr>\n",
       "      <th>1</th>\n",
       "      <td>8595.0</td>\n",
       "      <td>1.968586</td>\n",
       "      <td>15.803996</td>\n",
       "      <td>-90.0</td>\n",
       "      <td>0.0</td>\n",
       "      <td>0.0</td>\n",
       "      <td>0.0</td>\n",
       "      <td>150.0</td>\n",
       "    </tr>\n",
       "    <tr>\n",
       "      <th>2</th>\n",
       "      <td>8831.0</td>\n",
       "      <td>2.201336</td>\n",
       "      <td>15.881091</td>\n",
       "      <td>-60.0</td>\n",
       "      <td>0.0</td>\n",
       "      <td>0.0</td>\n",
       "      <td>0.0</td>\n",
       "      <td>150.0</td>\n",
       "    </tr>\n",
       "  </tbody>\n",
       "</table>\n",
       "</div>"
      ],
      "text/plain": [
       "            count      mean        std    min  25%  50%  75%    max\n",
       "new_group                                                          \n",
       "0          8509.0  2.023740  14.845036 -150.0  0.0  0.0  0.0  150.0\n",
       "1          8595.0  1.968586  15.803996  -90.0  0.0  0.0  0.0  150.0\n",
       "2          8831.0  2.201336  15.881091  -60.0  0.0  0.0  0.0  150.0"
      ]
     },
     "execution_count": 7,
     "metadata": {},
     "output_type": "execute_result"
    }
   ],
   "source": [
    "df2['duration_diff'] = df2.new_duration_days - df2.last_duration_days\n",
    "df2.groupby('new_group').duration_diff.describe()"
   ]
  },
  {
   "cell_type": "code",
   "execution_count": 8,
   "metadata": {},
   "outputs": [
    {
     "data": {
      "image/png": "[encoded data removed]",
      "text/plain": [
       "<Figure size 432x288 with 1 Axes>"
      ]
     },
     "metadata": {
      "needs_background": "light"
     },
     "output_type": "display_data"
    }
   ],
   "source": [
    "plt.hist(df2[df2.new_group == 0].duration_diff, alpha=0.4, label='control 0', color='r')\n",
    "plt.hist(df2[df2.new_group == 1].duration_diff, alpha=0.4, label='control 1', color='b')\n",
    "plt.hist(df2[df2.new_group == 2].duration_diff, alpha=0.4, label='test', color='g')\n",
    "plt.legend();"
   ]
  },
  {
   "cell_type": "code",
   "execution_count": 9,
   "metadata": {},
   "outputs": [
    {
     "name": "stdout",
     "output_type": "stream",
     "text": [
      "Корректированные значения p-value: [0.66446093 0.66446093]\n",
      "Кол-во отвергнутых гипотез 0\n"
     ]
    }
   ],
   "source": [
    "# your code here\n",
    "x = df2[df2.new_group == 2].duration_diff.values\n",
    "y = df2[df2.new_group == 0].duration_diff.values\n",
    "z = df2[df2.new_group == 1].duration_diff.values\n",
    "\n",
    "nx, ny, nz = x.size, y.size, z.size\n",
    "\n",
    "diff1 = x.mean() - y.mean()\n",
    "diff_std1 = np.sqrt(x.var(ddof=1) / nx + y.var(ddof=1) / ny)\n",
    "\n",
    "z_obs1 = diff1/diff_std1\n",
    "pval_1 = 2 * (1 - sts.norm().cdf(z_obs1))\n",
    "\n",
    "\n",
    "diff2 = x.mean() - z.mean()\n",
    "diff_std2 = np.sqrt(x.var(ddof=1) / nx + z.var(ddof=1) / nz)\n",
    "\n",
    "z_obs2= diff2/diff_std2\n",
    "pval_2 = 2 * (1 - sts.norm().cdf(z_obs2))\n",
    "\n",
    "\n",
    "rejected, p_corrected, _, _ = multipletests([pval_1, pval_2], alpha = 0.01, method = 'holm')\n",
    "hyp_cnt = (p_corrected < 0.01).sum()\n",
    "\n",
    "print(f'Корректированные значения p-value: {p_corrected}')\n",
    "print(f'Кол-во отвергнутых гипотез {hyp_cnt}')"
   ]
  },
  {
   "cell_type": "markdown",
   "metadata": {},
   "source": [
    "<br>"
   ]
  }
 ],
 "metadata": {
  "kernelspec": {
   "display_name": "Python 3",
   "language": "python",
   "name": "python3"
  },
  "language_info": {
   "codemirror_mode": {
    "name": "ipython",
    "version": 3
   },
   "file_extension": ".py",
   "mimetype": "text/x-python",
   "name": "python",
   "nbconvert_exporter": "python",
   "pygments_lexer": "ipython3",
   "version": "3.8.5"
  }
 },
 "nbformat": 4,
 "nbformat_minor": 4
}
